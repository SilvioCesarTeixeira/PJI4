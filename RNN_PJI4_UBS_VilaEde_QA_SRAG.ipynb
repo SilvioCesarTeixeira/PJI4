{
  "nbformat": 4,
  "nbformat_minor": 0,
  "metadata": {
    "colab": {
      "provenance": [],
      "authorship_tag": "ABX9TyP8dgBzczMX41+Rv5+DLt4M",
      "include_colab_link": true
    },
    "kernelspec": {
      "name": "python3",
      "display_name": "Python 3"
    },
    "language_info": {
      "name": "python"
    },
    "widgets": {
      "application/vnd.jupyter.widget-state+json": {
        "7b193ae3397d47cfa086eeee219e31f6": {
          "model_module": "@jupyter-widgets/controls",
          "model_name": "HBoxModel",
          "model_module_version": "1.5.0",
          "state": {
            "_dom_classes": [],
            "_model_module": "@jupyter-widgets/controls",
            "_model_module_version": "1.5.0",
            "_model_name": "HBoxModel",
            "_view_count": null,
            "_view_module": "@jupyter-widgets/controls",
            "_view_module_version": "1.5.0",
            "_view_name": "HBoxView",
            "box_style": "",
            "children": [
              "IPY_MODEL_b0e33e47dee64a339b3e54529b715804",
              "IPY_MODEL_a091d7e97d5d46fcbfe619529a9057f2",
              "IPY_MODEL_a038a296704b4309be3405a0f30f53ac"
            ],
            "layout": "IPY_MODEL_861118a4fe1a42419da5e97bceae5c32"
          }
        },
        "b0e33e47dee64a339b3e54529b715804": {
          "model_module": "@jupyter-widgets/controls",
          "model_name": "HTMLModel",
          "model_module_version": "1.5.0",
          "state": {
            "_dom_classes": [],
            "_model_module": "@jupyter-widgets/controls",
            "_model_module_version": "1.5.0",
            "_model_name": "HTMLModel",
            "_view_count": null,
            "_view_module": "@jupyter-widgets/controls",
            "_view_module_version": "1.5.0",
            "_view_name": "HTMLView",
            "description": "",
            "description_tooltip": null,
            "layout": "IPY_MODEL_141252c07f6e4d809cdc1d359060284e",
            "placeholder": "​",
            "style": "IPY_MODEL_958427c1a962481786d5cd27eb709904",
            "value": "Feature: VM_SRAG                             "
          }
        },
        "a091d7e97d5d46fcbfe619529a9057f2": {
          "model_module": "@jupyter-widgets/controls",
          "model_name": "FloatProgressModel",
          "model_module_version": "1.5.0",
          "state": {
            "_dom_classes": [],
            "_model_module": "@jupyter-widgets/controls",
            "_model_module_version": "1.5.0",
            "_model_name": "FloatProgressModel",
            "_view_count": null,
            "_view_module": "@jupyter-widgets/controls",
            "_view_module_version": "1.5.0",
            "_view_name": "ProgressView",
            "bar_style": "success",
            "description": "",
            "description_tooltip": null,
            "layout": "IPY_MODEL_38ff8bd671884f8488e38e90caedd2fc",
            "max": 5,
            "min": 0,
            "orientation": "horizontal",
            "style": "IPY_MODEL_b978fdeb32314af0b00f8c158d3511f6",
            "value": 5
          }
        },
        "a038a296704b4309be3405a0f30f53ac": {
          "model_module": "@jupyter-widgets/controls",
          "model_name": "HTMLModel",
          "model_module_version": "1.5.0",
          "state": {
            "_dom_classes": [],
            "_model_module": "@jupyter-widgets/controls",
            "_model_module_version": "1.5.0",
            "_model_name": "HTMLModel",
            "_view_count": null,
            "_view_module": "@jupyter-widgets/controls",
            "_view_module_version": "1.5.0",
            "_view_name": "HTMLView",
            "description": "",
            "description_tooltip": null,
            "layout": "IPY_MODEL_f0ad991790e0482da9867b0e70b28746",
            "placeholder": "​",
            "style": "IPY_MODEL_43b807501a424165be45a99183f80706",
            "value": " [100%]   00:02 -&gt; (00:00 left)"
          }
        },
        "861118a4fe1a42419da5e97bceae5c32": {
          "model_module": "@jupyter-widgets/base",
          "model_name": "LayoutModel",
          "model_module_version": "1.2.0",
          "state": {
            "_model_module": "@jupyter-widgets/base",
            "_model_module_version": "1.2.0",
            "_model_name": "LayoutModel",
            "_view_count": null,
            "_view_module": "@jupyter-widgets/base",
            "_view_module_version": "1.2.0",
            "_view_name": "LayoutView",
            "align_content": null,
            "align_items": null,
            "align_self": null,
            "border": null,
            "bottom": null,
            "display": "inline-flex",
            "flex": null,
            "flex_flow": "row wrap",
            "grid_area": null,
            "grid_auto_columns": null,
            "grid_auto_flow": null,
            "grid_auto_rows": null,
            "grid_column": null,
            "grid_gap": null,
            "grid_row": null,
            "grid_template_areas": null,
            "grid_template_columns": null,
            "grid_template_rows": null,
            "height": null,
            "justify_content": null,
            "justify_items": null,
            "left": null,
            "margin": null,
            "max_height": null,
            "max_width": null,
            "min_height": null,
            "min_width": null,
            "object_fit": null,
            "object_position": null,
            "order": null,
            "overflow": null,
            "overflow_x": null,
            "overflow_y": null,
            "padding": null,
            "right": null,
            "top": null,
            "visibility": null,
            "width": "100%"
          }
        },
        "141252c07f6e4d809cdc1d359060284e": {
          "model_module": "@jupyter-widgets/base",
          "model_name": "LayoutModel",
          "model_module_version": "1.2.0",
          "state": {
            "_model_module": "@jupyter-widgets/base",
            "_model_module_version": "1.2.0",
            "_model_name": "LayoutModel",
            "_view_count": null,
            "_view_module": "@jupyter-widgets/base",
            "_view_module_version": "1.2.0",
            "_view_name": "LayoutView",
            "align_content": null,
            "align_items": null,
            "align_self": null,
            "border": null,
            "bottom": null,
            "display": null,
            "flex": null,
            "flex_flow": null,
            "grid_area": null,
            "grid_auto_columns": null,
            "grid_auto_flow": null,
            "grid_auto_rows": null,
            "grid_column": null,
            "grid_gap": null,
            "grid_row": null,
            "grid_template_areas": null,
            "grid_template_columns": null,
            "grid_template_rows": null,
            "height": null,
            "justify_content": null,
            "justify_items": null,
            "left": null,
            "margin": null,
            "max_height": null,
            "max_width": null,
            "min_height": null,
            "min_width": null,
            "object_fit": null,
            "object_position": null,
            "order": null,
            "overflow": null,
            "overflow_x": null,
            "overflow_y": null,
            "padding": null,
            "right": null,
            "top": null,
            "visibility": null,
            "width": null
          }
        },
        "958427c1a962481786d5cd27eb709904": {
          "model_module": "@jupyter-widgets/controls",
          "model_name": "DescriptionStyleModel",
          "model_module_version": "1.5.0",
          "state": {
            "_model_module": "@jupyter-widgets/controls",
            "_model_module_version": "1.5.0",
            "_model_name": "DescriptionStyleModel",
            "_view_count": null,
            "_view_module": "@jupyter-widgets/base",
            "_view_module_version": "1.2.0",
            "_view_name": "StyleView",
            "description_width": ""
          }
        },
        "38ff8bd671884f8488e38e90caedd2fc": {
          "model_module": "@jupyter-widgets/base",
          "model_name": "LayoutModel",
          "model_module_version": "1.2.0",
          "state": {
            "_model_module": "@jupyter-widgets/base",
            "_model_module_version": "1.2.0",
            "_model_name": "LayoutModel",
            "_view_count": null,
            "_view_module": "@jupyter-widgets/base",
            "_view_module_version": "1.2.0",
            "_view_name": "LayoutView",
            "align_content": null,
            "align_items": null,
            "align_self": null,
            "border": null,
            "bottom": null,
            "display": null,
            "flex": "2",
            "flex_flow": null,
            "grid_area": null,
            "grid_auto_columns": null,
            "grid_auto_flow": null,
            "grid_auto_rows": null,
            "grid_column": null,
            "grid_gap": null,
            "grid_row": null,
            "grid_template_areas": null,
            "grid_template_columns": null,
            "grid_template_rows": null,
            "height": null,
            "justify_content": null,
            "justify_items": null,
            "left": null,
            "margin": null,
            "max_height": null,
            "max_width": null,
            "min_height": null,
            "min_width": null,
            "object_fit": null,
            "object_position": null,
            "order": null,
            "overflow": null,
            "overflow_x": null,
            "overflow_y": null,
            "padding": null,
            "right": null,
            "top": null,
            "visibility": null,
            "width": null
          }
        },
        "b978fdeb32314af0b00f8c158d3511f6": {
          "model_module": "@jupyter-widgets/controls",
          "model_name": "ProgressStyleModel",
          "model_module_version": "1.5.0",
          "state": {
            "_model_module": "@jupyter-widgets/controls",
            "_model_module_version": "1.5.0",
            "_model_name": "ProgressStyleModel",
            "_view_count": null,
            "_view_module": "@jupyter-widgets/base",
            "_view_module_version": "1.2.0",
            "_view_name": "StyleView",
            "bar_color": null,
            "description_width": ""
          }
        },
        "f0ad991790e0482da9867b0e70b28746": {
          "model_module": "@jupyter-widgets/base",
          "model_name": "LayoutModel",
          "model_module_version": "1.2.0",
          "state": {
            "_model_module": "@jupyter-widgets/base",
            "_model_module_version": "1.2.0",
            "_model_name": "LayoutModel",
            "_view_count": null,
            "_view_module": "@jupyter-widgets/base",
            "_view_module_version": "1.2.0",
            "_view_name": "LayoutView",
            "align_content": null,
            "align_items": null,
            "align_self": null,
            "border": null,
            "bottom": null,
            "display": null,
            "flex": null,
            "flex_flow": null,
            "grid_area": null,
            "grid_auto_columns": null,
            "grid_auto_flow": null,
            "grid_auto_rows": null,
            "grid_column": null,
            "grid_gap": null,
            "grid_row": null,
            "grid_template_areas": null,
            "grid_template_columns": null,
            "grid_template_rows": null,
            "height": null,
            "justify_content": null,
            "justify_items": null,
            "left": null,
            "margin": null,
            "max_height": null,
            "max_width": null,
            "min_height": null,
            "min_width": null,
            "object_fit": null,
            "object_position": null,
            "order": null,
            "overflow": null,
            "overflow_x": null,
            "overflow_y": null,
            "padding": null,
            "right": null,
            "top": null,
            "visibility": null,
            "width": null
          }
        },
        "43b807501a424165be45a99183f80706": {
          "model_module": "@jupyter-widgets/controls",
          "model_name": "DescriptionStyleModel",
          "model_module_version": "1.5.0",
          "state": {
            "_model_module": "@jupyter-widgets/controls",
            "_model_module_version": "1.5.0",
            "_model_name": "DescriptionStyleModel",
            "_view_count": null,
            "_view_module": "@jupyter-widgets/base",
            "_view_module_version": "1.2.0",
            "_view_name": "StyleView",
            "description_width": ""
          }
        }
      }
    }
  },
  "cells": [
    {
      "cell_type": "markdown",
      "metadata": {
        "id": "view-in-github",
        "colab_type": "text"
      },
      "source": [
        "<a href=\"https://colab.research.google.com/github/SilvioCesarTeixeira/PJI4/blob/master/RNN_PJI4_UBS_VilaEde_QA_SRAG.ipynb\" target=\"_parent\"><img src=\"https://colab.research.google.com/assets/colab-badge.svg\" alt=\"Open In Colab\"/></a>"
      ]
    },
    {
      "cell_type": "markdown",
      "source": [
        "Instalar Bibliotecas"
      ],
      "metadata": {
        "id": "hV987hPD0MaW"
      }
    },
    {
      "cell_type": "code",
      "source": [
        "#!pip install openpyxl\n",
        "!pip install pyexcel\n",
        "!pip install sweetviz\n",
        "!pip install seaborn"
      ],
      "metadata": {
        "id": "AIyvuqChGpA4",
        "colab": {
          "base_uri": "https://localhost:8080/"
        },
        "outputId": "5609a82f-22e1-465d-9081-d8097cd0f656"
      },
      "execution_count": 1,
      "outputs": [
        {
          "output_type": "stream",
          "name": "stdout",
          "text": [
            "Looking in indexes: https://pypi.org/simple, https://us-python.pkg.dev/colab-wheels/public/simple/\n",
            "Collecting pyexcel\n",
            "  Downloading pyexcel-0.7.0-py2.py3-none-any.whl (87 kB)\n",
            "\u001b[2K     \u001b[90m━━━━━━━━━━━━━━━━━━━━━━━━━━━━━━━━━━━━━━━━\u001b[0m \u001b[32m87.7/87.7 KB\u001b[0m \u001b[31m3.8 MB/s\u001b[0m eta \u001b[36m0:00:00\u001b[0m\n",
            "\u001b[?25hCollecting texttable>=0.8.2\n",
            "  Downloading texttable-1.6.7-py2.py3-none-any.whl (10 kB)\n",
            "Collecting lml>=0.0.4\n",
            "  Downloading lml-0.1.0-py2.py3-none-any.whl (10 kB)\n",
            "Requirement already satisfied: chardet in /usr/local/lib/python3.9/dist-packages (from pyexcel) (4.0.0)\n",
            "Collecting pyexcel-io>=0.6.2\n",
            "  Downloading pyexcel_io-0.6.6-py2.py3-none-any.whl (44 kB)\n",
            "\u001b[2K     \u001b[90m━━━━━━━━━━━━━━━━━━━━━━━━━━━━━━━━━━━━━━━━\u001b[0m \u001b[32m44.2/44.2 KB\u001b[0m \u001b[31m5.3 MB/s\u001b[0m eta \u001b[36m0:00:00\u001b[0m\n",
            "\u001b[?25hInstalling collected packages: texttable, lml, pyexcel-io, pyexcel\n",
            "Successfully installed lml-0.1.0 pyexcel-0.7.0 pyexcel-io-0.6.6 texttable-1.6.7\n",
            "Looking in indexes: https://pypi.org/simple, https://us-python.pkg.dev/colab-wheels/public/simple/\n",
            "Collecting sweetviz\n",
            "  Downloading sweetviz-2.1.4-py3-none-any.whl (15.1 MB)\n",
            "\u001b[2K     \u001b[90m━━━━━━━━━━━━━━━━━━━━━━━━━━━━━━━━━━━━━━━━\u001b[0m \u001b[32m15.1/15.1 MB\u001b[0m \u001b[31m66.5 MB/s\u001b[0m eta \u001b[36m0:00:00\u001b[0m\n",
            "\u001b[?25hRequirement already satisfied: tqdm>=4.43.0 in /usr/local/lib/python3.9/dist-packages (from sweetviz) (4.65.0)\n",
            "Requirement already satisfied: scipy>=1.3.2 in /usr/local/lib/python3.9/dist-packages (from sweetviz) (1.10.1)\n",
            "Requirement already satisfied: numpy>=1.16.0 in /usr/local/lib/python3.9/dist-packages (from sweetviz) (1.22.4)\n",
            "Requirement already satisfied: importlib-resources>=1.2.0 in /usr/local/lib/python3.9/dist-packages (from sweetviz) (5.12.0)\n",
            "Requirement already satisfied: pandas!=1.0.0,!=1.0.1,!=1.0.2,>=0.25.3 in /usr/local/lib/python3.9/dist-packages (from sweetviz) (1.4.4)\n",
            "Requirement already satisfied: jinja2>=2.11.1 in /usr/local/lib/python3.9/dist-packages (from sweetviz) (3.1.2)\n",
            "Requirement already satisfied: matplotlib>=3.1.3 in /usr/local/lib/python3.9/dist-packages (from sweetviz) (3.7.1)\n",
            "Requirement already satisfied: zipp>=3.1.0 in /usr/local/lib/python3.9/dist-packages (from importlib-resources>=1.2.0->sweetviz) (3.15.0)\n",
            "Requirement already satisfied: MarkupSafe>=2.0 in /usr/local/lib/python3.9/dist-packages (from jinja2>=2.11.1->sweetviz) (2.1.2)\n",
            "Requirement already satisfied: fonttools>=4.22.0 in /usr/local/lib/python3.9/dist-packages (from matplotlib>=3.1.3->sweetviz) (4.39.3)\n",
            "Requirement already satisfied: packaging>=20.0 in /usr/local/lib/python3.9/dist-packages (from matplotlib>=3.1.3->sweetviz) (23.0)\n",
            "Requirement already satisfied: cycler>=0.10 in /usr/local/lib/python3.9/dist-packages (from matplotlib>=3.1.3->sweetviz) (0.11.0)\n",
            "Requirement already satisfied: contourpy>=1.0.1 in /usr/local/lib/python3.9/dist-packages (from matplotlib>=3.1.3->sweetviz) (1.0.7)\n",
            "Requirement already satisfied: kiwisolver>=1.0.1 in /usr/local/lib/python3.9/dist-packages (from matplotlib>=3.1.3->sweetviz) (1.4.4)\n",
            "Requirement already satisfied: pillow>=6.2.0 in /usr/local/lib/python3.9/dist-packages (from matplotlib>=3.1.3->sweetviz) (8.4.0)\n",
            "Requirement already satisfied: python-dateutil>=2.7 in /usr/local/lib/python3.9/dist-packages (from matplotlib>=3.1.3->sweetviz) (2.8.2)\n",
            "Requirement already satisfied: pyparsing>=2.3.1 in /usr/local/lib/python3.9/dist-packages (from matplotlib>=3.1.3->sweetviz) (3.0.9)\n",
            "Requirement already satisfied: pytz>=2020.1 in /usr/local/lib/python3.9/dist-packages (from pandas!=1.0.0,!=1.0.1,!=1.0.2,>=0.25.3->sweetviz) (2022.7.1)\n",
            "Requirement already satisfied: six>=1.5 in /usr/local/lib/python3.9/dist-packages (from python-dateutil>=2.7->matplotlib>=3.1.3->sweetviz) (1.16.0)\n",
            "Installing collected packages: sweetviz\n",
            "Successfully installed sweetviz-2.1.4\n",
            "Looking in indexes: https://pypi.org/simple, https://us-python.pkg.dev/colab-wheels/public/simple/\n",
            "Requirement already satisfied: seaborn in /usr/local/lib/python3.9/dist-packages (0.12.2)\n",
            "Requirement already satisfied: numpy!=1.24.0,>=1.17 in /usr/local/lib/python3.9/dist-packages (from seaborn) (1.22.4)\n",
            "Requirement already satisfied: pandas>=0.25 in /usr/local/lib/python3.9/dist-packages (from seaborn) (1.4.4)\n",
            "Requirement already satisfied: matplotlib!=3.6.1,>=3.1 in /usr/local/lib/python3.9/dist-packages (from seaborn) (3.7.1)\n",
            "Requirement already satisfied: pillow>=6.2.0 in /usr/local/lib/python3.9/dist-packages (from matplotlib!=3.6.1,>=3.1->seaborn) (8.4.0)\n",
            "Requirement already satisfied: cycler>=0.10 in /usr/local/lib/python3.9/dist-packages (from matplotlib!=3.6.1,>=3.1->seaborn) (0.11.0)\n",
            "Requirement already satisfied: kiwisolver>=1.0.1 in /usr/local/lib/python3.9/dist-packages (from matplotlib!=3.6.1,>=3.1->seaborn) (1.4.4)\n",
            "Requirement already satisfied: contourpy>=1.0.1 in /usr/local/lib/python3.9/dist-packages (from matplotlib!=3.6.1,>=3.1->seaborn) (1.0.7)\n",
            "Requirement already satisfied: fonttools>=4.22.0 in /usr/local/lib/python3.9/dist-packages (from matplotlib!=3.6.1,>=3.1->seaborn) (4.39.3)\n",
            "Requirement already satisfied: python-dateutil>=2.7 in /usr/local/lib/python3.9/dist-packages (from matplotlib!=3.6.1,>=3.1->seaborn) (2.8.2)\n",
            "Requirement already satisfied: importlib-resources>=3.2.0 in /usr/local/lib/python3.9/dist-packages (from matplotlib!=3.6.1,>=3.1->seaborn) (5.12.0)\n",
            "Requirement already satisfied: pyparsing>=2.3.1 in /usr/local/lib/python3.9/dist-packages (from matplotlib!=3.6.1,>=3.1->seaborn) (3.0.9)\n",
            "Requirement already satisfied: packaging>=20.0 in /usr/local/lib/python3.9/dist-packages (from matplotlib!=3.6.1,>=3.1->seaborn) (23.0)\n",
            "Requirement already satisfied: pytz>=2020.1 in /usr/local/lib/python3.9/dist-packages (from pandas>=0.25->seaborn) (2022.7.1)\n",
            "Requirement already satisfied: zipp>=3.1.0 in /usr/local/lib/python3.9/dist-packages (from importlib-resources>=3.2.0->matplotlib!=3.6.1,>=3.1->seaborn) (3.15.0)\n",
            "Requirement already satisfied: six>=1.5 in /usr/local/lib/python3.9/dist-packages (from python-dateutil>=2.7->matplotlib!=3.6.1,>=3.1->seaborn) (1.16.0)\n"
          ]
        }
      ]
    },
    {
      "cell_type": "markdown",
      "source": [
        "Importar pacotes"
      ],
      "metadata": {
        "id": "B6RQG9il0VTE"
      }
    },
    {
      "cell_type": "code",
      "execution_count": 2,
      "metadata": {
        "id": "zBwTSpZvDRHU"
      },
      "outputs": [],
      "source": [
        "import pandas as pd\n",
        "import numpy as np\n",
        "import io\n",
        "import openpyxl\n",
        "import sweetviz as sv\n",
        "import seaborn as sns\n",
        "import matplotlib.pyplot as plt\n",
        "\n",
        "#from google.colab import files\n",
        "\n",
        "from sklearn.model_selection import KFold\n",
        "from sklearn.preprocessing import MinMaxScaler\n",
        "from sklearn.model_selection import train_test_split\n",
        "from sklearn.metrics import accuracy_score\n",
        "\n",
        "import torch\n",
        "import torch.nn as nn\n",
        "import torch.nn.functional as F\n",
        "import torch.optim as optim"
      ]
    },
    {
      "cell_type": "markdown",
      "source": [
        "Código para upload de arquivo instalado no computador"
      ],
      "metadata": {
        "id": "1MW4nX9t0bG3"
      }
    },
    {
      "cell_type": "code",
      "source": [
        "#uploaded = files.upload()"
      ],
      "metadata": {
        "id": "X7i3s6Mhl2fw"
      },
      "execution_count": null,
      "outputs": []
    },
    {
      "cell_type": "markdown",
      "source": [
        "Referenciar base de dados existente na rede"
      ],
      "metadata": {
        "id": "mICV3UWz1ECZ"
      }
    },
    {
      "cell_type": "code",
      "source": [
        "url_SG = r'https://github.com/SilvioCesarTeixeira/PJI4/raw/master/SRAG_SubP_SP.xlsx'\n",
        "url_QA = r'https://github.com/SilvioCesarTeixeira/PJI4/raw/master/Santana_SP_AQI.xlsx'"
      ],
      "metadata": {
        "id": "dKkodCwt-vOU"
      },
      "execution_count": 3,
      "outputs": []
    },
    {
      "cell_type": "markdown",
      "source": [
        "Criar Dataframes"
      ],
      "metadata": {
        "id": "4LiGApgaArVp"
      }
    },
    {
      "cell_type": "code",
      "source": [
        "df1 = pd.read_excel(url_QA, engine='openpyxl')\n",
        "df2 = pd.read_excel(url_SG, engine='openpyxl')\n"
      ],
      "metadata": {
        "id": "30IumvIyAism"
      },
      "execution_count": 4,
      "outputs": []
    },
    {
      "cell_type": "markdown",
      "source": [
        "Definir a linha zero do dataframe 1 como título das colunas"
      ],
      "metadata": {
        "id": "pri5aVNuIyDf"
      }
    },
    {
      "cell_type": "code",
      "source": [
        "df1.columns = df1.iloc[0]\n",
        "df1 = df1.reindex(df1.index.drop(0))"
      ],
      "metadata": {
        "id": "hvBswDXaHldX"
      },
      "execution_count": 5,
      "outputs": []
    },
    {
      "cell_type": "markdown",
      "source": [
        "Definindo a primeira coluna como data com padrão Português do Brasil"
      ],
      "metadata": {
        "id": "YT55DvLKOiCp"
      }
    },
    {
      "cell_type": "code",
      "source": [
        "df_QA = df1\n",
        "df_QA['Data'] = pd.to_datetime(df1['date'], format='%Y/%m/%d').dt.strftime('%d/%m/%Y')\n",
        "col_Data_Brasil = df_QA.iloc[:, -1]\n",
        "df_QA = df_QA.iloc[:, 1:-1]\n",
        "df_QA.insert(loc=0, column='Data', value=col_Data_Brasil)\n",
        "df_QA"
      ],
      "metadata": {
        "id": "kEXf9e0RBarN",
        "colab": {
          "base_uri": "https://localhost:8080/",
          "height": 424
        },
        "outputId": "efe9291f-1430-4db6-ffda-e8164b946384"
      },
      "execution_count": 8,
      "outputs": [
        {
          "output_type": "execute_result",
          "data": {
            "text/plain": [
              "0           Data  pm25  pm10  o3  no2  so2  co\n",
              "1     08/03/2023    35        24              \n",
              "2     09/03/2023    47         2              \n",
              "3     10/03/2023    50        18              \n",
              "4     11/03/2023    52        23              \n",
              "5     12/03/2023    37        14              \n",
              "...          ...   ...   ...  ..  ...  ...  ..\n",
              "3267  24/11/2014              24              \n",
              "3268  25/11/2014              28              \n",
              "3269  01/01/2014              22              \n",
              "3270  10/02/2019                    9         \n",
              "3271  11/02/2019                   13         \n",
              "\n",
              "[3271 rows x 7 columns]"
            ],
            "text/html": [
              "\n",
              "  <div id=\"df-863740a6-4d55-4387-a473-0eeb188b4c7a\">\n",
              "    <div class=\"colab-df-container\">\n",
              "      <div>\n",
              "<style scoped>\n",
              "    .dataframe tbody tr th:only-of-type {\n",
              "        vertical-align: middle;\n",
              "    }\n",
              "\n",
              "    .dataframe tbody tr th {\n",
              "        vertical-align: top;\n",
              "    }\n",
              "\n",
              "    .dataframe thead th {\n",
              "        text-align: right;\n",
              "    }\n",
              "</style>\n",
              "<table border=\"1\" class=\"dataframe\">\n",
              "  <thead>\n",
              "    <tr style=\"text-align: right;\">\n",
              "      <th></th>\n",
              "      <th>Data</th>\n",
              "      <th>pm25</th>\n",
              "      <th>pm10</th>\n",
              "      <th>o3</th>\n",
              "      <th>no2</th>\n",
              "      <th>so2</th>\n",
              "      <th>co</th>\n",
              "    </tr>\n",
              "  </thead>\n",
              "  <tbody>\n",
              "    <tr>\n",
              "      <th>1</th>\n",
              "      <td>08/03/2023</td>\n",
              "      <td>35</td>\n",
              "      <td></td>\n",
              "      <td>24</td>\n",
              "      <td></td>\n",
              "      <td></td>\n",
              "      <td></td>\n",
              "    </tr>\n",
              "    <tr>\n",
              "      <th>2</th>\n",
              "      <td>09/03/2023</td>\n",
              "      <td>47</td>\n",
              "      <td></td>\n",
              "      <td>2</td>\n",
              "      <td></td>\n",
              "      <td></td>\n",
              "      <td></td>\n",
              "    </tr>\n",
              "    <tr>\n",
              "      <th>3</th>\n",
              "      <td>10/03/2023</td>\n",
              "      <td>50</td>\n",
              "      <td></td>\n",
              "      <td>18</td>\n",
              "      <td></td>\n",
              "      <td></td>\n",
              "      <td></td>\n",
              "    </tr>\n",
              "    <tr>\n",
              "      <th>4</th>\n",
              "      <td>11/03/2023</td>\n",
              "      <td>52</td>\n",
              "      <td></td>\n",
              "      <td>23</td>\n",
              "      <td></td>\n",
              "      <td></td>\n",
              "      <td></td>\n",
              "    </tr>\n",
              "    <tr>\n",
              "      <th>5</th>\n",
              "      <td>12/03/2023</td>\n",
              "      <td>37</td>\n",
              "      <td></td>\n",
              "      <td>14</td>\n",
              "      <td></td>\n",
              "      <td></td>\n",
              "      <td></td>\n",
              "    </tr>\n",
              "    <tr>\n",
              "      <th>...</th>\n",
              "      <td>...</td>\n",
              "      <td>...</td>\n",
              "      <td>...</td>\n",
              "      <td>...</td>\n",
              "      <td>...</td>\n",
              "      <td>...</td>\n",
              "      <td>...</td>\n",
              "    </tr>\n",
              "    <tr>\n",
              "      <th>3267</th>\n",
              "      <td>24/11/2014</td>\n",
              "      <td></td>\n",
              "      <td></td>\n",
              "      <td>24</td>\n",
              "      <td></td>\n",
              "      <td></td>\n",
              "      <td></td>\n",
              "    </tr>\n",
              "    <tr>\n",
              "      <th>3268</th>\n",
              "      <td>25/11/2014</td>\n",
              "      <td></td>\n",
              "      <td></td>\n",
              "      <td>28</td>\n",
              "      <td></td>\n",
              "      <td></td>\n",
              "      <td></td>\n",
              "    </tr>\n",
              "    <tr>\n",
              "      <th>3269</th>\n",
              "      <td>01/01/2014</td>\n",
              "      <td></td>\n",
              "      <td></td>\n",
              "      <td>22</td>\n",
              "      <td></td>\n",
              "      <td></td>\n",
              "      <td></td>\n",
              "    </tr>\n",
              "    <tr>\n",
              "      <th>3270</th>\n",
              "      <td>10/02/2019</td>\n",
              "      <td></td>\n",
              "      <td></td>\n",
              "      <td></td>\n",
              "      <td>9</td>\n",
              "      <td></td>\n",
              "      <td></td>\n",
              "    </tr>\n",
              "    <tr>\n",
              "      <th>3271</th>\n",
              "      <td>11/02/2019</td>\n",
              "      <td></td>\n",
              "      <td></td>\n",
              "      <td></td>\n",
              "      <td>13</td>\n",
              "      <td></td>\n",
              "      <td></td>\n",
              "    </tr>\n",
              "  </tbody>\n",
              "</table>\n",
              "<p>3271 rows × 7 columns</p>\n",
              "</div>\n",
              "      <button class=\"colab-df-convert\" onclick=\"convertToInteractive('df-863740a6-4d55-4387-a473-0eeb188b4c7a')\"\n",
              "              title=\"Convert this dataframe to an interactive table.\"\n",
              "              style=\"display:none;\">\n",
              "        \n",
              "  <svg xmlns=\"http://www.w3.org/2000/svg\" height=\"24px\"viewBox=\"0 0 24 24\"\n",
              "       width=\"24px\">\n",
              "    <path d=\"M0 0h24v24H0V0z\" fill=\"none\"/>\n",
              "    <path d=\"M18.56 5.44l.94 2.06.94-2.06 2.06-.94-2.06-.94-.94-2.06-.94 2.06-2.06.94zm-11 1L8.5 8.5l.94-2.06 2.06-.94-2.06-.94L8.5 2.5l-.94 2.06-2.06.94zm10 10l.94 2.06.94-2.06 2.06-.94-2.06-.94-.94-2.06-.94 2.06-2.06.94z\"/><path d=\"M17.41 7.96l-1.37-1.37c-.4-.4-.92-.59-1.43-.59-.52 0-1.04.2-1.43.59L10.3 9.45l-7.72 7.72c-.78.78-.78 2.05 0 2.83L4 21.41c.39.39.9.59 1.41.59.51 0 1.02-.2 1.41-.59l7.78-7.78 2.81-2.81c.8-.78.8-2.07 0-2.86zM5.41 20L4 18.59l7.72-7.72 1.47 1.35L5.41 20z\"/>\n",
              "  </svg>\n",
              "      </button>\n",
              "      \n",
              "  <style>\n",
              "    .colab-df-container {\n",
              "      display:flex;\n",
              "      flex-wrap:wrap;\n",
              "      gap: 12px;\n",
              "    }\n",
              "\n",
              "    .colab-df-convert {\n",
              "      background-color: #E8F0FE;\n",
              "      border: none;\n",
              "      border-radius: 50%;\n",
              "      cursor: pointer;\n",
              "      display: none;\n",
              "      fill: #1967D2;\n",
              "      height: 32px;\n",
              "      padding: 0 0 0 0;\n",
              "      width: 32px;\n",
              "    }\n",
              "\n",
              "    .colab-df-convert:hover {\n",
              "      background-color: #E2EBFA;\n",
              "      box-shadow: 0px 1px 2px rgba(60, 64, 67, 0.3), 0px 1px 3px 1px rgba(60, 64, 67, 0.15);\n",
              "      fill: #174EA6;\n",
              "    }\n",
              "\n",
              "    [theme=dark] .colab-df-convert {\n",
              "      background-color: #3B4455;\n",
              "      fill: #D2E3FC;\n",
              "    }\n",
              "\n",
              "    [theme=dark] .colab-df-convert:hover {\n",
              "      background-color: #434B5C;\n",
              "      box-shadow: 0px 1px 3px 1px rgba(0, 0, 0, 0.15);\n",
              "      filter: drop-shadow(0px 1px 2px rgba(0, 0, 0, 0.3));\n",
              "      fill: #FFFFFF;\n",
              "    }\n",
              "  </style>\n",
              "\n",
              "      <script>\n",
              "        const buttonEl =\n",
              "          document.querySelector('#df-863740a6-4d55-4387-a473-0eeb188b4c7a button.colab-df-convert');\n",
              "        buttonEl.style.display =\n",
              "          google.colab.kernel.accessAllowed ? 'block' : 'none';\n",
              "\n",
              "        async function convertToInteractive(key) {\n",
              "          const element = document.querySelector('#df-863740a6-4d55-4387-a473-0eeb188b4c7a');\n",
              "          const dataTable =\n",
              "            await google.colab.kernel.invokeFunction('convertToInteractive',\n",
              "                                                     [key], {});\n",
              "          if (!dataTable) return;\n",
              "\n",
              "          const docLinkHtml = 'Like what you see? Visit the ' +\n",
              "            '<a target=\"_blank\" href=https://colab.research.google.com/notebooks/data_table.ipynb>data table notebook</a>'\n",
              "            + ' to learn more about interactive tables.';\n",
              "          element.innerHTML = '';\n",
              "          dataTable['output_type'] = 'display_data';\n",
              "          await google.colab.output.renderOutput(dataTable, element);\n",
              "          const docLink = document.createElement('div');\n",
              "          docLink.innerHTML = docLinkHtml;\n",
              "          element.appendChild(docLink);\n",
              "        }\n",
              "      </script>\n",
              "    </div>\n",
              "  </div>\n",
              "  "
            ]
          },
          "metadata": {},
          "execution_count": 8
        }
      ]
    },
    {
      "cell_type": "markdown",
      "source": [
        "Remover linhas desnecessárias e renomear coluna do dataframe 2"
      ],
      "metadata": {
        "id": "QTLeAKH71WIp"
      }
    },
    {
      "cell_type": "code",
      "source": [
        "df_SRAG = df2\n",
        "df_SRAG.columns = df_SRAG.iloc[2]\n",
        "linhas_remover = list(range(0,3)) + list(range(1164,1168))\n",
        "df_SRAG = df_SRAG.reindex(df_SRAG.index.drop(linhas_remover))\n",
        "df_SRAG = df_SRAG.rename(columns={'Ano M�s Dia Notifica��o': 'Data'})\n",
        "df_SRAG"
      ],
      "metadata": {
        "colab": {
          "base_uri": "https://localhost:8080/",
          "height": 522
        },
        "id": "bS6FzxFwPuFR",
        "outputId": "aac5fe14-22a0-4a3f-df93-1f1613acd137"
      },
      "execution_count": 9,
      "outputs": [
        {
          "output_type": "execute_result",
          "data": {
            "text/plain": [
              "2           Data ARICANDUVA/FORMOSA/CARRAO BUTANTA CAMPO LIMPO  \\\n",
              "3     01/01/2020                         -       1           -   \n",
              "4     02/01/2020                         -       -           -   \n",
              "5     03/01/2020                         -       -           2   \n",
              "6     05/01/2020                         -       -           -   \n",
              "7     06/01/2020                         -       1           1   \n",
              "...          ...                       ...     ...         ...   \n",
              "1159  12/03/2023                         -       -           3   \n",
              "1160  13/03/2023                         2       1           8   \n",
              "1161  14/03/2023                         1       5          13   \n",
              "1162  15/03/2023                         5       7           1   \n",
              "1163  16/03/2023                         -       -           1   \n",
              "\n",
              "2    CAPELA DO SOCORRO CASA VERDE/CACHOEIRINHA CIDADE ADEMAR  \\\n",
              "3                    -                       -             -   \n",
              "4                    -                       -             -   \n",
              "5                    -                       -             -   \n",
              "6                    -                       -             -   \n",
              "7                    -                       -             -   \n",
              "...                ...                     ...           ...   \n",
              "1159                 -                       -             1   \n",
              "1160                 3                       2             -   \n",
              "1161                 2                       -             3   \n",
              "1162                 1                       1             1   \n",
              "1163                 -                       -             -   \n",
              "\n",
              "2    CIDADE TIRADENTES ERMELINO MATARAZZO FREGUESIA/BRASILANDIA  ...  \\\n",
              "3                    -                  -                     -  ...   \n",
              "4                    -                  -                     -  ...   \n",
              "5                    -                  -                     -  ...   \n",
              "6                    -                  -                     -  ...   \n",
              "7                    -                  -                     -  ...   \n",
              "...                ...                ...                   ...  ...   \n",
              "1159                 -                  1                     -  ...   \n",
              "1160                 -                  -                     7  ...   \n",
              "1161                 -                  2                     1  ...   \n",
              "1162                 -                  -                     3  ...   \n",
              "1163                 -                  -                     -  ...   \n",
              "\n",
              "2    SAO MATEUS SAO MIGUEL SAPOPEMBA SE VILA MARIA/VILA GUILHERME  \\\n",
              "3             -          -         -  -                         -   \n",
              "4             -          -         -  -                         -   \n",
              "5             -          -         -  -                         -   \n",
              "6             -          -         -  -                         -   \n",
              "7             -          -         -  -                         -   \n",
              "...         ...        ...       ... ..                       ...   \n",
              "1159          -          1         -  2                         1   \n",
              "1160          2          1         2  6                         2   \n",
              "1161          -          -         2  6                         5   \n",
              "1162          2          1         3  1                         2   \n",
              "1163          -          -         -  1                         -   \n",
              "\n",
              "2    VILA MARIANA VILA PRUDENTE N�o localizado Localizado fora do MSP Total  \n",
              "3               -             -              -                      -     2  \n",
              "4               -             -              -                      -     4  \n",
              "5               -             -              -                      -     3  \n",
              "6               -             -              -                      -     2  \n",
              "7               -             -              -                      -     5  \n",
              "...           ...           ...            ...                    ...   ...  \n",
              "1159            1             1              3                      -    21  \n",
              "1160           10             -              2                      -    94  \n",
              "1161            8             2              1                      -    91  \n",
              "1162            2             1              4                      -    82  \n",
              "1163            -             -              -                      -     2  \n",
              "\n",
              "[1161 rows x 36 columns]"
            ],
            "text/html": [
              "\n",
              "  <div id=\"df-f02bee1e-3868-4366-a5d0-970d63d4e092\">\n",
              "    <div class=\"colab-df-container\">\n",
              "      <div>\n",
              "<style scoped>\n",
              "    .dataframe tbody tr th:only-of-type {\n",
              "        vertical-align: middle;\n",
              "    }\n",
              "\n",
              "    .dataframe tbody tr th {\n",
              "        vertical-align: top;\n",
              "    }\n",
              "\n",
              "    .dataframe thead th {\n",
              "        text-align: right;\n",
              "    }\n",
              "</style>\n",
              "<table border=\"1\" class=\"dataframe\">\n",
              "  <thead>\n",
              "    <tr style=\"text-align: right;\">\n",
              "      <th>2</th>\n",
              "      <th>Data</th>\n",
              "      <th>ARICANDUVA/FORMOSA/CARRAO</th>\n",
              "      <th>BUTANTA</th>\n",
              "      <th>CAMPO LIMPO</th>\n",
              "      <th>CAPELA DO SOCORRO</th>\n",
              "      <th>CASA VERDE/CACHOEIRINHA</th>\n",
              "      <th>CIDADE ADEMAR</th>\n",
              "      <th>CIDADE TIRADENTES</th>\n",
              "      <th>ERMELINO MATARAZZO</th>\n",
              "      <th>FREGUESIA/BRASILANDIA</th>\n",
              "      <th>...</th>\n",
              "      <th>SAO MATEUS</th>\n",
              "      <th>SAO MIGUEL</th>\n",
              "      <th>SAPOPEMBA</th>\n",
              "      <th>SE</th>\n",
              "      <th>VILA MARIA/VILA GUILHERME</th>\n",
              "      <th>VILA MARIANA</th>\n",
              "      <th>VILA PRUDENTE</th>\n",
              "      <th>N�o localizado</th>\n",
              "      <th>Localizado fora do MSP</th>\n",
              "      <th>Total</th>\n",
              "    </tr>\n",
              "  </thead>\n",
              "  <tbody>\n",
              "    <tr>\n",
              "      <th>3</th>\n",
              "      <td>01/01/2020</td>\n",
              "      <td>-</td>\n",
              "      <td>1</td>\n",
              "      <td>-</td>\n",
              "      <td>-</td>\n",
              "      <td>-</td>\n",
              "      <td>-</td>\n",
              "      <td>-</td>\n",
              "      <td>-</td>\n",
              "      <td>-</td>\n",
              "      <td>...</td>\n",
              "      <td>-</td>\n",
              "      <td>-</td>\n",
              "      <td>-</td>\n",
              "      <td>-</td>\n",
              "      <td>-</td>\n",
              "      <td>-</td>\n",
              "      <td>-</td>\n",
              "      <td>-</td>\n",
              "      <td>-</td>\n",
              "      <td>2</td>\n",
              "    </tr>\n",
              "    <tr>\n",
              "      <th>4</th>\n",
              "      <td>02/01/2020</td>\n",
              "      <td>-</td>\n",
              "      <td>-</td>\n",
              "      <td>-</td>\n",
              "      <td>-</td>\n",
              "      <td>-</td>\n",
              "      <td>-</td>\n",
              "      <td>-</td>\n",
              "      <td>-</td>\n",
              "      <td>-</td>\n",
              "      <td>...</td>\n",
              "      <td>-</td>\n",
              "      <td>-</td>\n",
              "      <td>-</td>\n",
              "      <td>-</td>\n",
              "      <td>-</td>\n",
              "      <td>-</td>\n",
              "      <td>-</td>\n",
              "      <td>-</td>\n",
              "      <td>-</td>\n",
              "      <td>4</td>\n",
              "    </tr>\n",
              "    <tr>\n",
              "      <th>5</th>\n",
              "      <td>03/01/2020</td>\n",
              "      <td>-</td>\n",
              "      <td>-</td>\n",
              "      <td>2</td>\n",
              "      <td>-</td>\n",
              "      <td>-</td>\n",
              "      <td>-</td>\n",
              "      <td>-</td>\n",
              "      <td>-</td>\n",
              "      <td>-</td>\n",
              "      <td>...</td>\n",
              "      <td>-</td>\n",
              "      <td>-</td>\n",
              "      <td>-</td>\n",
              "      <td>-</td>\n",
              "      <td>-</td>\n",
              "      <td>-</td>\n",
              "      <td>-</td>\n",
              "      <td>-</td>\n",
              "      <td>-</td>\n",
              "      <td>3</td>\n",
              "    </tr>\n",
              "    <tr>\n",
              "      <th>6</th>\n",
              "      <td>05/01/2020</td>\n",
              "      <td>-</td>\n",
              "      <td>-</td>\n",
              "      <td>-</td>\n",
              "      <td>-</td>\n",
              "      <td>-</td>\n",
              "      <td>-</td>\n",
              "      <td>-</td>\n",
              "      <td>-</td>\n",
              "      <td>-</td>\n",
              "      <td>...</td>\n",
              "      <td>-</td>\n",
              "      <td>-</td>\n",
              "      <td>-</td>\n",
              "      <td>-</td>\n",
              "      <td>-</td>\n",
              "      <td>-</td>\n",
              "      <td>-</td>\n",
              "      <td>-</td>\n",
              "      <td>-</td>\n",
              "      <td>2</td>\n",
              "    </tr>\n",
              "    <tr>\n",
              "      <th>7</th>\n",
              "      <td>06/01/2020</td>\n",
              "      <td>-</td>\n",
              "      <td>1</td>\n",
              "      <td>1</td>\n",
              "      <td>-</td>\n",
              "      <td>-</td>\n",
              "      <td>-</td>\n",
              "      <td>-</td>\n",
              "      <td>-</td>\n",
              "      <td>-</td>\n",
              "      <td>...</td>\n",
              "      <td>-</td>\n",
              "      <td>-</td>\n",
              "      <td>-</td>\n",
              "      <td>-</td>\n",
              "      <td>-</td>\n",
              "      <td>-</td>\n",
              "      <td>-</td>\n",
              "      <td>-</td>\n",
              "      <td>-</td>\n",
              "      <td>5</td>\n",
              "    </tr>\n",
              "    <tr>\n",
              "      <th>...</th>\n",
              "      <td>...</td>\n",
              "      <td>...</td>\n",
              "      <td>...</td>\n",
              "      <td>...</td>\n",
              "      <td>...</td>\n",
              "      <td>...</td>\n",
              "      <td>...</td>\n",
              "      <td>...</td>\n",
              "      <td>...</td>\n",
              "      <td>...</td>\n",
              "      <td>...</td>\n",
              "      <td>...</td>\n",
              "      <td>...</td>\n",
              "      <td>...</td>\n",
              "      <td>...</td>\n",
              "      <td>...</td>\n",
              "      <td>...</td>\n",
              "      <td>...</td>\n",
              "      <td>...</td>\n",
              "      <td>...</td>\n",
              "      <td>...</td>\n",
              "    </tr>\n",
              "    <tr>\n",
              "      <th>1159</th>\n",
              "      <td>12/03/2023</td>\n",
              "      <td>-</td>\n",
              "      <td>-</td>\n",
              "      <td>3</td>\n",
              "      <td>-</td>\n",
              "      <td>-</td>\n",
              "      <td>1</td>\n",
              "      <td>-</td>\n",
              "      <td>1</td>\n",
              "      <td>-</td>\n",
              "      <td>...</td>\n",
              "      <td>-</td>\n",
              "      <td>1</td>\n",
              "      <td>-</td>\n",
              "      <td>2</td>\n",
              "      <td>1</td>\n",
              "      <td>1</td>\n",
              "      <td>1</td>\n",
              "      <td>3</td>\n",
              "      <td>-</td>\n",
              "      <td>21</td>\n",
              "    </tr>\n",
              "    <tr>\n",
              "      <th>1160</th>\n",
              "      <td>13/03/2023</td>\n",
              "      <td>2</td>\n",
              "      <td>1</td>\n",
              "      <td>8</td>\n",
              "      <td>3</td>\n",
              "      <td>2</td>\n",
              "      <td>-</td>\n",
              "      <td>-</td>\n",
              "      <td>-</td>\n",
              "      <td>7</td>\n",
              "      <td>...</td>\n",
              "      <td>2</td>\n",
              "      <td>1</td>\n",
              "      <td>2</td>\n",
              "      <td>6</td>\n",
              "      <td>2</td>\n",
              "      <td>10</td>\n",
              "      <td>-</td>\n",
              "      <td>2</td>\n",
              "      <td>-</td>\n",
              "      <td>94</td>\n",
              "    </tr>\n",
              "    <tr>\n",
              "      <th>1161</th>\n",
              "      <td>14/03/2023</td>\n",
              "      <td>1</td>\n",
              "      <td>5</td>\n",
              "      <td>13</td>\n",
              "      <td>2</td>\n",
              "      <td>-</td>\n",
              "      <td>3</td>\n",
              "      <td>-</td>\n",
              "      <td>2</td>\n",
              "      <td>1</td>\n",
              "      <td>...</td>\n",
              "      <td>-</td>\n",
              "      <td>-</td>\n",
              "      <td>2</td>\n",
              "      <td>6</td>\n",
              "      <td>5</td>\n",
              "      <td>8</td>\n",
              "      <td>2</td>\n",
              "      <td>1</td>\n",
              "      <td>-</td>\n",
              "      <td>91</td>\n",
              "    </tr>\n",
              "    <tr>\n",
              "      <th>1162</th>\n",
              "      <td>15/03/2023</td>\n",
              "      <td>5</td>\n",
              "      <td>7</td>\n",
              "      <td>1</td>\n",
              "      <td>1</td>\n",
              "      <td>1</td>\n",
              "      <td>1</td>\n",
              "      <td>-</td>\n",
              "      <td>-</td>\n",
              "      <td>3</td>\n",
              "      <td>...</td>\n",
              "      <td>2</td>\n",
              "      <td>1</td>\n",
              "      <td>3</td>\n",
              "      <td>1</td>\n",
              "      <td>2</td>\n",
              "      <td>2</td>\n",
              "      <td>1</td>\n",
              "      <td>4</td>\n",
              "      <td>-</td>\n",
              "      <td>82</td>\n",
              "    </tr>\n",
              "    <tr>\n",
              "      <th>1163</th>\n",
              "      <td>16/03/2023</td>\n",
              "      <td>-</td>\n",
              "      <td>-</td>\n",
              "      <td>1</td>\n",
              "      <td>-</td>\n",
              "      <td>-</td>\n",
              "      <td>-</td>\n",
              "      <td>-</td>\n",
              "      <td>-</td>\n",
              "      <td>-</td>\n",
              "      <td>...</td>\n",
              "      <td>-</td>\n",
              "      <td>-</td>\n",
              "      <td>-</td>\n",
              "      <td>1</td>\n",
              "      <td>-</td>\n",
              "      <td>-</td>\n",
              "      <td>-</td>\n",
              "      <td>-</td>\n",
              "      <td>-</td>\n",
              "      <td>2</td>\n",
              "    </tr>\n",
              "  </tbody>\n",
              "</table>\n",
              "<p>1161 rows × 36 columns</p>\n",
              "</div>\n",
              "      <button class=\"colab-df-convert\" onclick=\"convertToInteractive('df-f02bee1e-3868-4366-a5d0-970d63d4e092')\"\n",
              "              title=\"Convert this dataframe to an interactive table.\"\n",
              "              style=\"display:none;\">\n",
              "        \n",
              "  <svg xmlns=\"http://www.w3.org/2000/svg\" height=\"24px\"viewBox=\"0 0 24 24\"\n",
              "       width=\"24px\">\n",
              "    <path d=\"M0 0h24v24H0V0z\" fill=\"none\"/>\n",
              "    <path d=\"M18.56 5.44l.94 2.06.94-2.06 2.06-.94-2.06-.94-.94-2.06-.94 2.06-2.06.94zm-11 1L8.5 8.5l.94-2.06 2.06-.94-2.06-.94L8.5 2.5l-.94 2.06-2.06.94zm10 10l.94 2.06.94-2.06 2.06-.94-2.06-.94-.94-2.06-.94 2.06-2.06.94z\"/><path d=\"M17.41 7.96l-1.37-1.37c-.4-.4-.92-.59-1.43-.59-.52 0-1.04.2-1.43.59L10.3 9.45l-7.72 7.72c-.78.78-.78 2.05 0 2.83L4 21.41c.39.39.9.59 1.41.59.51 0 1.02-.2 1.41-.59l7.78-7.78 2.81-2.81c.8-.78.8-2.07 0-2.86zM5.41 20L4 18.59l7.72-7.72 1.47 1.35L5.41 20z\"/>\n",
              "  </svg>\n",
              "      </button>\n",
              "      \n",
              "  <style>\n",
              "    .colab-df-container {\n",
              "      display:flex;\n",
              "      flex-wrap:wrap;\n",
              "      gap: 12px;\n",
              "    }\n",
              "\n",
              "    .colab-df-convert {\n",
              "      background-color: #E8F0FE;\n",
              "      border: none;\n",
              "      border-radius: 50%;\n",
              "      cursor: pointer;\n",
              "      display: none;\n",
              "      fill: #1967D2;\n",
              "      height: 32px;\n",
              "      padding: 0 0 0 0;\n",
              "      width: 32px;\n",
              "    }\n",
              "\n",
              "    .colab-df-convert:hover {\n",
              "      background-color: #E2EBFA;\n",
              "      box-shadow: 0px 1px 2px rgba(60, 64, 67, 0.3), 0px 1px 3px 1px rgba(60, 64, 67, 0.15);\n",
              "      fill: #174EA6;\n",
              "    }\n",
              "\n",
              "    [theme=dark] .colab-df-convert {\n",
              "      background-color: #3B4455;\n",
              "      fill: #D2E3FC;\n",
              "    }\n",
              "\n",
              "    [theme=dark] .colab-df-convert:hover {\n",
              "      background-color: #434B5C;\n",
              "      box-shadow: 0px 1px 3px 1px rgba(0, 0, 0, 0.15);\n",
              "      filter: drop-shadow(0px 1px 2px rgba(0, 0, 0, 0.3));\n",
              "      fill: #FFFFFF;\n",
              "    }\n",
              "  </style>\n",
              "\n",
              "      <script>\n",
              "        const buttonEl =\n",
              "          document.querySelector('#df-f02bee1e-3868-4366-a5d0-970d63d4e092 button.colab-df-convert');\n",
              "        buttonEl.style.display =\n",
              "          google.colab.kernel.accessAllowed ? 'block' : 'none';\n",
              "\n",
              "        async function convertToInteractive(key) {\n",
              "          const element = document.querySelector('#df-f02bee1e-3868-4366-a5d0-970d63d4e092');\n",
              "          const dataTable =\n",
              "            await google.colab.kernel.invokeFunction('convertToInteractive',\n",
              "                                                     [key], {});\n",
              "          if (!dataTable) return;\n",
              "\n",
              "          const docLinkHtml = 'Like what you see? Visit the ' +\n",
              "            '<a target=\"_blank\" href=https://colab.research.google.com/notebooks/data_table.ipynb>data table notebook</a>'\n",
              "            + ' to learn more about interactive tables.';\n",
              "          element.innerHTML = '';\n",
              "          dataTable['output_type'] = 'display_data';\n",
              "          await google.colab.output.renderOutput(dataTable, element);\n",
              "          const docLink = document.createElement('div');\n",
              "          docLink.innerHTML = docLinkHtml;\n",
              "          element.appendChild(docLink);\n",
              "        }\n",
              "      </script>\n",
              "    </div>\n",
              "  </div>\n",
              "  "
            ]
          },
          "metadata": {},
          "execution_count": 9
        }
      ]
    },
    {
      "cell_type": "code",
      "source": [
        "df_SRAG.describe()"
      ],
      "metadata": {
        "colab": {
          "base_uri": "https://localhost:8080/",
          "height": 303
        },
        "id": "_k-gqigR4M1-",
        "outputId": "70a8c808-22b0-414f-a070-4d39ab0a4c09"
      },
      "execution_count": 10,
      "outputs": [
        {
          "output_type": "execute_result",
          "data": {
            "text/plain": [
              "2             Data ARICANDUVA/FORMOSA/CARRAO  BUTANTA CAMPO LIMPO  \\\n",
              "count         1161                      1161     1161        1161   \n",
              "unique        1161                        37       41          56   \n",
              "top     01/01/2020                         -        1           -   \n",
              "freq             1                       171      112          69   \n",
              "\n",
              "2      CAPELA DO SOCORRO CASA VERDE/CACHOEIRINHA CIDADE ADEMAR  \\\n",
              "count               1161                    1161          1161   \n",
              "unique                58                      36            43   \n",
              "top                    -                       -             -   \n",
              "freq                 121                     166           135   \n",
              "\n",
              "2      CIDADE TIRADENTES ERMELINO MATARAZZO FREGUESIA/BRASILANDIA  ...  \\\n",
              "count               1161               1161                  1161  ...   \n",
              "unique                22                 25                    42  ...   \n",
              "top                    -                  -                     -  ...   \n",
              "freq                 330                280                   134  ...   \n",
              "\n",
              "2      SAO MATEUS SAO MIGUEL SAPOPEMBA    SE VILA MARIA/VILA GUILHERME  \\\n",
              "count        1161       1161      1161  1161                      1161   \n",
              "unique         45         42        36    54                        41   \n",
              "top             -          -         -     -                         -   \n",
              "freq          148        174       189    83                       169   \n",
              "\n",
              "2       VILA MARIANA VILA PRUDENTE  N�o localizado Localizado fora do MSP  \\\n",
              "count           1161          1161            1161                   1161   \n",
              "unique            41            33              43                      6   \n",
              "top                -             -               -                      -   \n",
              "freq             115           175             124                   1065   \n",
              "\n",
              "2      Total  \n",
              "count   1161  \n",
              "unique   541  \n",
              "top        1  \n",
              "freq      11  \n",
              "\n",
              "[4 rows x 36 columns]"
            ],
            "text/html": [
              "\n",
              "  <div id=\"df-87847ca2-4a96-4e32-8a7e-e46618103718\">\n",
              "    <div class=\"colab-df-container\">\n",
              "      <div>\n",
              "<style scoped>\n",
              "    .dataframe tbody tr th:only-of-type {\n",
              "        vertical-align: middle;\n",
              "    }\n",
              "\n",
              "    .dataframe tbody tr th {\n",
              "        vertical-align: top;\n",
              "    }\n",
              "\n",
              "    .dataframe thead th {\n",
              "        text-align: right;\n",
              "    }\n",
              "</style>\n",
              "<table border=\"1\" class=\"dataframe\">\n",
              "  <thead>\n",
              "    <tr style=\"text-align: right;\">\n",
              "      <th>2</th>\n",
              "      <th>Data</th>\n",
              "      <th>ARICANDUVA/FORMOSA/CARRAO</th>\n",
              "      <th>BUTANTA</th>\n",
              "      <th>CAMPO LIMPO</th>\n",
              "      <th>CAPELA DO SOCORRO</th>\n",
              "      <th>CASA VERDE/CACHOEIRINHA</th>\n",
              "      <th>CIDADE ADEMAR</th>\n",
              "      <th>CIDADE TIRADENTES</th>\n",
              "      <th>ERMELINO MATARAZZO</th>\n",
              "      <th>FREGUESIA/BRASILANDIA</th>\n",
              "      <th>...</th>\n",
              "      <th>SAO MATEUS</th>\n",
              "      <th>SAO MIGUEL</th>\n",
              "      <th>SAPOPEMBA</th>\n",
              "      <th>SE</th>\n",
              "      <th>VILA MARIA/VILA GUILHERME</th>\n",
              "      <th>VILA MARIANA</th>\n",
              "      <th>VILA PRUDENTE</th>\n",
              "      <th>N�o localizado</th>\n",
              "      <th>Localizado fora do MSP</th>\n",
              "      <th>Total</th>\n",
              "    </tr>\n",
              "  </thead>\n",
              "  <tbody>\n",
              "    <tr>\n",
              "      <th>count</th>\n",
              "      <td>1161</td>\n",
              "      <td>1161</td>\n",
              "      <td>1161</td>\n",
              "      <td>1161</td>\n",
              "      <td>1161</td>\n",
              "      <td>1161</td>\n",
              "      <td>1161</td>\n",
              "      <td>1161</td>\n",
              "      <td>1161</td>\n",
              "      <td>1161</td>\n",
              "      <td>...</td>\n",
              "      <td>1161</td>\n",
              "      <td>1161</td>\n",
              "      <td>1161</td>\n",
              "      <td>1161</td>\n",
              "      <td>1161</td>\n",
              "      <td>1161</td>\n",
              "      <td>1161</td>\n",
              "      <td>1161</td>\n",
              "      <td>1161</td>\n",
              "      <td>1161</td>\n",
              "    </tr>\n",
              "    <tr>\n",
              "      <th>unique</th>\n",
              "      <td>1161</td>\n",
              "      <td>37</td>\n",
              "      <td>41</td>\n",
              "      <td>56</td>\n",
              "      <td>58</td>\n",
              "      <td>36</td>\n",
              "      <td>43</td>\n",
              "      <td>22</td>\n",
              "      <td>25</td>\n",
              "      <td>42</td>\n",
              "      <td>...</td>\n",
              "      <td>45</td>\n",
              "      <td>42</td>\n",
              "      <td>36</td>\n",
              "      <td>54</td>\n",
              "      <td>41</td>\n",
              "      <td>41</td>\n",
              "      <td>33</td>\n",
              "      <td>43</td>\n",
              "      <td>6</td>\n",
              "      <td>541</td>\n",
              "    </tr>\n",
              "    <tr>\n",
              "      <th>top</th>\n",
              "      <td>01/01/2020</td>\n",
              "      <td>-</td>\n",
              "      <td>1</td>\n",
              "      <td>-</td>\n",
              "      <td>-</td>\n",
              "      <td>-</td>\n",
              "      <td>-</td>\n",
              "      <td>-</td>\n",
              "      <td>-</td>\n",
              "      <td>-</td>\n",
              "      <td>...</td>\n",
              "      <td>-</td>\n",
              "      <td>-</td>\n",
              "      <td>-</td>\n",
              "      <td>-</td>\n",
              "      <td>-</td>\n",
              "      <td>-</td>\n",
              "      <td>-</td>\n",
              "      <td>-</td>\n",
              "      <td>-</td>\n",
              "      <td>1</td>\n",
              "    </tr>\n",
              "    <tr>\n",
              "      <th>freq</th>\n",
              "      <td>1</td>\n",
              "      <td>171</td>\n",
              "      <td>112</td>\n",
              "      <td>69</td>\n",
              "      <td>121</td>\n",
              "      <td>166</td>\n",
              "      <td>135</td>\n",
              "      <td>330</td>\n",
              "      <td>280</td>\n",
              "      <td>134</td>\n",
              "      <td>...</td>\n",
              "      <td>148</td>\n",
              "      <td>174</td>\n",
              "      <td>189</td>\n",
              "      <td>83</td>\n",
              "      <td>169</td>\n",
              "      <td>115</td>\n",
              "      <td>175</td>\n",
              "      <td>124</td>\n",
              "      <td>1065</td>\n",
              "      <td>11</td>\n",
              "    </tr>\n",
              "  </tbody>\n",
              "</table>\n",
              "<p>4 rows × 36 columns</p>\n",
              "</div>\n",
              "      <button class=\"colab-df-convert\" onclick=\"convertToInteractive('df-87847ca2-4a96-4e32-8a7e-e46618103718')\"\n",
              "              title=\"Convert this dataframe to an interactive table.\"\n",
              "              style=\"display:none;\">\n",
              "        \n",
              "  <svg xmlns=\"http://www.w3.org/2000/svg\" height=\"24px\"viewBox=\"0 0 24 24\"\n",
              "       width=\"24px\">\n",
              "    <path d=\"M0 0h24v24H0V0z\" fill=\"none\"/>\n",
              "    <path d=\"M18.56 5.44l.94 2.06.94-2.06 2.06-.94-2.06-.94-.94-2.06-.94 2.06-2.06.94zm-11 1L8.5 8.5l.94-2.06 2.06-.94-2.06-.94L8.5 2.5l-.94 2.06-2.06.94zm10 10l.94 2.06.94-2.06 2.06-.94-2.06-.94-.94-2.06-.94 2.06-2.06.94z\"/><path d=\"M17.41 7.96l-1.37-1.37c-.4-.4-.92-.59-1.43-.59-.52 0-1.04.2-1.43.59L10.3 9.45l-7.72 7.72c-.78.78-.78 2.05 0 2.83L4 21.41c.39.39.9.59 1.41.59.51 0 1.02-.2 1.41-.59l7.78-7.78 2.81-2.81c.8-.78.8-2.07 0-2.86zM5.41 20L4 18.59l7.72-7.72 1.47 1.35L5.41 20z\"/>\n",
              "  </svg>\n",
              "      </button>\n",
              "      \n",
              "  <style>\n",
              "    .colab-df-container {\n",
              "      display:flex;\n",
              "      flex-wrap:wrap;\n",
              "      gap: 12px;\n",
              "    }\n",
              "\n",
              "    .colab-df-convert {\n",
              "      background-color: #E8F0FE;\n",
              "      border: none;\n",
              "      border-radius: 50%;\n",
              "      cursor: pointer;\n",
              "      display: none;\n",
              "      fill: #1967D2;\n",
              "      height: 32px;\n",
              "      padding: 0 0 0 0;\n",
              "      width: 32px;\n",
              "    }\n",
              "\n",
              "    .colab-df-convert:hover {\n",
              "      background-color: #E2EBFA;\n",
              "      box-shadow: 0px 1px 2px rgba(60, 64, 67, 0.3), 0px 1px 3px 1px rgba(60, 64, 67, 0.15);\n",
              "      fill: #174EA6;\n",
              "    }\n",
              "\n",
              "    [theme=dark] .colab-df-convert {\n",
              "      background-color: #3B4455;\n",
              "      fill: #D2E3FC;\n",
              "    }\n",
              "\n",
              "    [theme=dark] .colab-df-convert:hover {\n",
              "      background-color: #434B5C;\n",
              "      box-shadow: 0px 1px 3px 1px rgba(0, 0, 0, 0.15);\n",
              "      filter: drop-shadow(0px 1px 2px rgba(0, 0, 0, 0.3));\n",
              "      fill: #FFFFFF;\n",
              "    }\n",
              "  </style>\n",
              "\n",
              "      <script>\n",
              "        const buttonEl =\n",
              "          document.querySelector('#df-87847ca2-4a96-4e32-8a7e-e46618103718 button.colab-df-convert');\n",
              "        buttonEl.style.display =\n",
              "          google.colab.kernel.accessAllowed ? 'block' : 'none';\n",
              "\n",
              "        async function convertToInteractive(key) {\n",
              "          const element = document.querySelector('#df-87847ca2-4a96-4e32-8a7e-e46618103718');\n",
              "          const dataTable =\n",
              "            await google.colab.kernel.invokeFunction('convertToInteractive',\n",
              "                                                     [key], {});\n",
              "          if (!dataTable) return;\n",
              "\n",
              "          const docLinkHtml = 'Like what you see? Visit the ' +\n",
              "            '<a target=\"_blank\" href=https://colab.research.google.com/notebooks/data_table.ipynb>data table notebook</a>'\n",
              "            + ' to learn more about interactive tables.';\n",
              "          element.innerHTML = '';\n",
              "          dataTable['output_type'] = 'display_data';\n",
              "          await google.colab.output.renderOutput(dataTable, element);\n",
              "          const docLink = document.createElement('div');\n",
              "          docLink.innerHTML = docLinkHtml;\n",
              "          element.appendChild(docLink);\n",
              "        }\n",
              "      </script>\n",
              "    </div>\n",
              "  </div>\n",
              "  "
            ]
          },
          "metadata": {},
          "execution_count": 10
        }
      ]
    },
    {
      "cell_type": "markdown",
      "source": [
        "Juntar os dois dataframes, mas mantendo apenas as datas que coincidem"
      ],
      "metadata": {
        "id": "ekrax3O4C8Pa"
      }
    },
    {
      "cell_type": "code",
      "source": [
        "df_SRAG = df_SRAG.loc[:, ['Data', 'VILA MARIA/VILA GUILHERME']]\n",
        "df_base = pd.merge(df_QA, df_SRAG, how='inner', on='Data')"
      ],
      "metadata": {
        "id": "UEOBzykCYTxc"
      },
      "execution_count": 11,
      "outputs": []
    },
    {
      "cell_type": "markdown",
      "source": [
        "Definir uma data de corte"
      ],
      "metadata": {
        "id": "eVPQ9qd8miFE"
      }
    },
    {
      "cell_type": "code",
      "source": [
        "data_limite = '01/06/2021'\n",
        "df_base['Data'] = pd.to_datetime(df_base['Data'], format='%d/%m/%Y')\n",
        "df_base = df_base.loc[df_base['Data'] > data_limite]"
      ],
      "metadata": {
        "id": "iZ8aL3S5aICi"
      },
      "execution_count": 12,
      "outputs": []
    },
    {
      "cell_type": "markdown",
      "source": [
        "Renomear colunas com titulo extenso e converter strings em tipos numericos"
      ],
      "metadata": {
        "id": "TumhL7elmppK"
      }
    },
    {
      "cell_type": "code",
      "source": [
        "df_base = df_base.rename(columns={' pm25':'PM25',' o3':'O3','VILA MARIA/VILA GUILHERME': 'VM_SRAG'})\n",
        "df_base['PM25'] = pd.to_numeric(df_base['PM25'], errors='coerce')\n",
        "df_base[' pm10'] = pd.to_numeric(df_base[' pm10'], errors='coerce')\n",
        "df_base['O3'] = pd.to_numeric(df_base['O3'], errors='coerce')\n",
        "df_base[' no2'] = pd.to_numeric(df_base[' no2'], errors='coerce')\n",
        "df_base['VM_SRAG'] = pd.to_numeric(df_base['VM_SRAG'], errors='coerce')"
      ],
      "metadata": {
        "id": "GSa3d-7sjN0D"
      },
      "execution_count": 15,
      "outputs": []
    },
    {
      "cell_type": "code",
      "source": [
        "df_base.describe()"
      ],
      "metadata": {
        "colab": {
          "base_uri": "https://localhost:8080/",
          "height": 300
        },
        "id": "XASBKTL3jz8l",
        "outputId": "b547e1b6-21da-4246-bfa7-b52d48c8c319"
      },
      "execution_count": 16,
      "outputs": [
        {
          "output_type": "execute_result",
          "data": {
            "text/plain": [
              "             PM25   pm10          O3   no2     VM_SRAG\n",
              "count  696.000000    0.0  755.000000   0.0  658.000000\n",
              "mean    52.252874    NaN   25.000000   NaN    6.721884\n",
              "std     23.168246    NaN   11.020718   NaN    6.909736\n",
              "min      5.000000    NaN    1.000000   NaN    1.000000\n",
              "25%     36.000000    NaN   17.000000   NaN    2.000000\n",
              "50%     49.000000    NaN   24.000000   NaN    4.000000\n",
              "75%     64.000000    NaN   32.000000   NaN    9.000000\n",
              "max    245.000000    NaN   73.000000   NaN   48.000000"
            ],
            "text/html": [
              "\n",
              "  <div id=\"df-e64da9dd-3d2e-4902-9889-f0065b0d37c4\">\n",
              "    <div class=\"colab-df-container\">\n",
              "      <div>\n",
              "<style scoped>\n",
              "    .dataframe tbody tr th:only-of-type {\n",
              "        vertical-align: middle;\n",
              "    }\n",
              "\n",
              "    .dataframe tbody tr th {\n",
              "        vertical-align: top;\n",
              "    }\n",
              "\n",
              "    .dataframe thead th {\n",
              "        text-align: right;\n",
              "    }\n",
              "</style>\n",
              "<table border=\"1\" class=\"dataframe\">\n",
              "  <thead>\n",
              "    <tr style=\"text-align: right;\">\n",
              "      <th></th>\n",
              "      <th>PM25</th>\n",
              "      <th>pm10</th>\n",
              "      <th>O3</th>\n",
              "      <th>no2</th>\n",
              "      <th>VM_SRAG</th>\n",
              "    </tr>\n",
              "  </thead>\n",
              "  <tbody>\n",
              "    <tr>\n",
              "      <th>count</th>\n",
              "      <td>696.000000</td>\n",
              "      <td>0.0</td>\n",
              "      <td>755.000000</td>\n",
              "      <td>0.0</td>\n",
              "      <td>658.000000</td>\n",
              "    </tr>\n",
              "    <tr>\n",
              "      <th>mean</th>\n",
              "      <td>52.252874</td>\n",
              "      <td>NaN</td>\n",
              "      <td>25.000000</td>\n",
              "      <td>NaN</td>\n",
              "      <td>6.721884</td>\n",
              "    </tr>\n",
              "    <tr>\n",
              "      <th>std</th>\n",
              "      <td>23.168246</td>\n",
              "      <td>NaN</td>\n",
              "      <td>11.020718</td>\n",
              "      <td>NaN</td>\n",
              "      <td>6.909736</td>\n",
              "    </tr>\n",
              "    <tr>\n",
              "      <th>min</th>\n",
              "      <td>5.000000</td>\n",
              "      <td>NaN</td>\n",
              "      <td>1.000000</td>\n",
              "      <td>NaN</td>\n",
              "      <td>1.000000</td>\n",
              "    </tr>\n",
              "    <tr>\n",
              "      <th>25%</th>\n",
              "      <td>36.000000</td>\n",
              "      <td>NaN</td>\n",
              "      <td>17.000000</td>\n",
              "      <td>NaN</td>\n",
              "      <td>2.000000</td>\n",
              "    </tr>\n",
              "    <tr>\n",
              "      <th>50%</th>\n",
              "      <td>49.000000</td>\n",
              "      <td>NaN</td>\n",
              "      <td>24.000000</td>\n",
              "      <td>NaN</td>\n",
              "      <td>4.000000</td>\n",
              "    </tr>\n",
              "    <tr>\n",
              "      <th>75%</th>\n",
              "      <td>64.000000</td>\n",
              "      <td>NaN</td>\n",
              "      <td>32.000000</td>\n",
              "      <td>NaN</td>\n",
              "      <td>9.000000</td>\n",
              "    </tr>\n",
              "    <tr>\n",
              "      <th>max</th>\n",
              "      <td>245.000000</td>\n",
              "      <td>NaN</td>\n",
              "      <td>73.000000</td>\n",
              "      <td>NaN</td>\n",
              "      <td>48.000000</td>\n",
              "    </tr>\n",
              "  </tbody>\n",
              "</table>\n",
              "</div>\n",
              "      <button class=\"colab-df-convert\" onclick=\"convertToInteractive('df-e64da9dd-3d2e-4902-9889-f0065b0d37c4')\"\n",
              "              title=\"Convert this dataframe to an interactive table.\"\n",
              "              style=\"display:none;\">\n",
              "        \n",
              "  <svg xmlns=\"http://www.w3.org/2000/svg\" height=\"24px\"viewBox=\"0 0 24 24\"\n",
              "       width=\"24px\">\n",
              "    <path d=\"M0 0h24v24H0V0z\" fill=\"none\"/>\n",
              "    <path d=\"M18.56 5.44l.94 2.06.94-2.06 2.06-.94-2.06-.94-.94-2.06-.94 2.06-2.06.94zm-11 1L8.5 8.5l.94-2.06 2.06-.94-2.06-.94L8.5 2.5l-.94 2.06-2.06.94zm10 10l.94 2.06.94-2.06 2.06-.94-2.06-.94-.94-2.06-.94 2.06-2.06.94z\"/><path d=\"M17.41 7.96l-1.37-1.37c-.4-.4-.92-.59-1.43-.59-.52 0-1.04.2-1.43.59L10.3 9.45l-7.72 7.72c-.78.78-.78 2.05 0 2.83L4 21.41c.39.39.9.59 1.41.59.51 0 1.02-.2 1.41-.59l7.78-7.78 2.81-2.81c.8-.78.8-2.07 0-2.86zM5.41 20L4 18.59l7.72-7.72 1.47 1.35L5.41 20z\"/>\n",
              "  </svg>\n",
              "      </button>\n",
              "      \n",
              "  <style>\n",
              "    .colab-df-container {\n",
              "      display:flex;\n",
              "      flex-wrap:wrap;\n",
              "      gap: 12px;\n",
              "    }\n",
              "\n",
              "    .colab-df-convert {\n",
              "      background-color: #E8F0FE;\n",
              "      border: none;\n",
              "      border-radius: 50%;\n",
              "      cursor: pointer;\n",
              "      display: none;\n",
              "      fill: #1967D2;\n",
              "      height: 32px;\n",
              "      padding: 0 0 0 0;\n",
              "      width: 32px;\n",
              "    }\n",
              "\n",
              "    .colab-df-convert:hover {\n",
              "      background-color: #E2EBFA;\n",
              "      box-shadow: 0px 1px 2px rgba(60, 64, 67, 0.3), 0px 1px 3px 1px rgba(60, 64, 67, 0.15);\n",
              "      fill: #174EA6;\n",
              "    }\n",
              "\n",
              "    [theme=dark] .colab-df-convert {\n",
              "      background-color: #3B4455;\n",
              "      fill: #D2E3FC;\n",
              "    }\n",
              "\n",
              "    [theme=dark] .colab-df-convert:hover {\n",
              "      background-color: #434B5C;\n",
              "      box-shadow: 0px 1px 3px 1px rgba(0, 0, 0, 0.15);\n",
              "      filter: drop-shadow(0px 1px 2px rgba(0, 0, 0, 0.3));\n",
              "      fill: #FFFFFF;\n",
              "    }\n",
              "  </style>\n",
              "\n",
              "      <script>\n",
              "        const buttonEl =\n",
              "          document.querySelector('#df-e64da9dd-3d2e-4902-9889-f0065b0d37c4 button.colab-df-convert');\n",
              "        buttonEl.style.display =\n",
              "          google.colab.kernel.accessAllowed ? 'block' : 'none';\n",
              "\n",
              "        async function convertToInteractive(key) {\n",
              "          const element = document.querySelector('#df-e64da9dd-3d2e-4902-9889-f0065b0d37c4');\n",
              "          const dataTable =\n",
              "            await google.colab.kernel.invokeFunction('convertToInteractive',\n",
              "                                                     [key], {});\n",
              "          if (!dataTable) return;\n",
              "\n",
              "          const docLinkHtml = 'Like what you see? Visit the ' +\n",
              "            '<a target=\"_blank\" href=https://colab.research.google.com/notebooks/data_table.ipynb>data table notebook</a>'\n",
              "            + ' to learn more about interactive tables.';\n",
              "          element.innerHTML = '';\n",
              "          dataTable['output_type'] = 'display_data';\n",
              "          await google.colab.output.renderOutput(dataTable, element);\n",
              "          const docLink = document.createElement('div');\n",
              "          docLink.innerHTML = docLinkHtml;\n",
              "          element.appendChild(docLink);\n",
              "        }\n",
              "      </script>\n",
              "    </div>\n",
              "  </div>\n",
              "  "
            ]
          },
          "metadata": {},
          "execution_count": 16
        }
      ]
    },
    {
      "cell_type": "markdown",
      "source": [
        "Definir um dataframe base apenas com as colunas que contenham dados em quase todas as linhas"
      ],
      "metadata": {
        "id": "T9DQlX6LIcg8"
      }
    },
    {
      "cell_type": "code",
      "source": [
        "df_base = df_base.loc[:, ['Data', 'PM25', 'O3','VM_SRAG']]"
      ],
      "metadata": {
        "id": "MTkh6ZOm6UVn"
      },
      "execution_count": 17,
      "outputs": []
    },
    {
      "cell_type": "code",
      "source": [
        "df_base"
      ],
      "metadata": {
        "colab": {
          "base_uri": "https://localhost:8080/",
          "height": 424
        },
        "id": "Nopbgiie7H3H",
        "outputId": "c9732ba1-a088-4f95-c8a7-a3d55d619445"
      },
      "execution_count": 18,
      "outputs": [
        {
          "output_type": "execute_result",
          "data": {
            "text/plain": [
              "           Data  PM25    O3  VM_SRAG\n",
              "0    2023-03-08  35.0  24.0      3.0\n",
              "1    2023-03-09  47.0   2.0      NaN\n",
              "2    2023-03-10  50.0  18.0      NaN\n",
              "3    2023-03-11  52.0  23.0      2.0\n",
              "4    2023-03-12  37.0  14.0      1.0\n",
              "...         ...   ...   ...      ...\n",
              "1098 2021-06-21   NaN  13.0     17.0\n",
              "1099 2021-06-29   NaN  11.0     11.0\n",
              "1100 2021-02-22   NaN  30.0     15.0\n",
              "1101 2021-03-01   NaN  26.0     20.0\n",
              "1102 2021-03-19   NaN  23.0     15.0\n",
              "\n",
              "[767 rows x 4 columns]"
            ],
            "text/html": [
              "\n",
              "  <div id=\"df-dc56cb37-43ec-4771-abdf-c799a086822a\">\n",
              "    <div class=\"colab-df-container\">\n",
              "      <div>\n",
              "<style scoped>\n",
              "    .dataframe tbody tr th:only-of-type {\n",
              "        vertical-align: middle;\n",
              "    }\n",
              "\n",
              "    .dataframe tbody tr th {\n",
              "        vertical-align: top;\n",
              "    }\n",
              "\n",
              "    .dataframe thead th {\n",
              "        text-align: right;\n",
              "    }\n",
              "</style>\n",
              "<table border=\"1\" class=\"dataframe\">\n",
              "  <thead>\n",
              "    <tr style=\"text-align: right;\">\n",
              "      <th></th>\n",
              "      <th>Data</th>\n",
              "      <th>PM25</th>\n",
              "      <th>O3</th>\n",
              "      <th>VM_SRAG</th>\n",
              "    </tr>\n",
              "  </thead>\n",
              "  <tbody>\n",
              "    <tr>\n",
              "      <th>0</th>\n",
              "      <td>2023-03-08</td>\n",
              "      <td>35.0</td>\n",
              "      <td>24.0</td>\n",
              "      <td>3.0</td>\n",
              "    </tr>\n",
              "    <tr>\n",
              "      <th>1</th>\n",
              "      <td>2023-03-09</td>\n",
              "      <td>47.0</td>\n",
              "      <td>2.0</td>\n",
              "      <td>NaN</td>\n",
              "    </tr>\n",
              "    <tr>\n",
              "      <th>2</th>\n",
              "      <td>2023-03-10</td>\n",
              "      <td>50.0</td>\n",
              "      <td>18.0</td>\n",
              "      <td>NaN</td>\n",
              "    </tr>\n",
              "    <tr>\n",
              "      <th>3</th>\n",
              "      <td>2023-03-11</td>\n",
              "      <td>52.0</td>\n",
              "      <td>23.0</td>\n",
              "      <td>2.0</td>\n",
              "    </tr>\n",
              "    <tr>\n",
              "      <th>4</th>\n",
              "      <td>2023-03-12</td>\n",
              "      <td>37.0</td>\n",
              "      <td>14.0</td>\n",
              "      <td>1.0</td>\n",
              "    </tr>\n",
              "    <tr>\n",
              "      <th>...</th>\n",
              "      <td>...</td>\n",
              "      <td>...</td>\n",
              "      <td>...</td>\n",
              "      <td>...</td>\n",
              "    </tr>\n",
              "    <tr>\n",
              "      <th>1098</th>\n",
              "      <td>2021-06-21</td>\n",
              "      <td>NaN</td>\n",
              "      <td>13.0</td>\n",
              "      <td>17.0</td>\n",
              "    </tr>\n",
              "    <tr>\n",
              "      <th>1099</th>\n",
              "      <td>2021-06-29</td>\n",
              "      <td>NaN</td>\n",
              "      <td>11.0</td>\n",
              "      <td>11.0</td>\n",
              "    </tr>\n",
              "    <tr>\n",
              "      <th>1100</th>\n",
              "      <td>2021-02-22</td>\n",
              "      <td>NaN</td>\n",
              "      <td>30.0</td>\n",
              "      <td>15.0</td>\n",
              "    </tr>\n",
              "    <tr>\n",
              "      <th>1101</th>\n",
              "      <td>2021-03-01</td>\n",
              "      <td>NaN</td>\n",
              "      <td>26.0</td>\n",
              "      <td>20.0</td>\n",
              "    </tr>\n",
              "    <tr>\n",
              "      <th>1102</th>\n",
              "      <td>2021-03-19</td>\n",
              "      <td>NaN</td>\n",
              "      <td>23.0</td>\n",
              "      <td>15.0</td>\n",
              "    </tr>\n",
              "  </tbody>\n",
              "</table>\n",
              "<p>767 rows × 4 columns</p>\n",
              "</div>\n",
              "      <button class=\"colab-df-convert\" onclick=\"convertToInteractive('df-dc56cb37-43ec-4771-abdf-c799a086822a')\"\n",
              "              title=\"Convert this dataframe to an interactive table.\"\n",
              "              style=\"display:none;\">\n",
              "        \n",
              "  <svg xmlns=\"http://www.w3.org/2000/svg\" height=\"24px\"viewBox=\"0 0 24 24\"\n",
              "       width=\"24px\">\n",
              "    <path d=\"M0 0h24v24H0V0z\" fill=\"none\"/>\n",
              "    <path d=\"M18.56 5.44l.94 2.06.94-2.06 2.06-.94-2.06-.94-.94-2.06-.94 2.06-2.06.94zm-11 1L8.5 8.5l.94-2.06 2.06-.94-2.06-.94L8.5 2.5l-.94 2.06-2.06.94zm10 10l.94 2.06.94-2.06 2.06-.94-2.06-.94-.94-2.06-.94 2.06-2.06.94z\"/><path d=\"M17.41 7.96l-1.37-1.37c-.4-.4-.92-.59-1.43-.59-.52 0-1.04.2-1.43.59L10.3 9.45l-7.72 7.72c-.78.78-.78 2.05 0 2.83L4 21.41c.39.39.9.59 1.41.59.51 0 1.02-.2 1.41-.59l7.78-7.78 2.81-2.81c.8-.78.8-2.07 0-2.86zM5.41 20L4 18.59l7.72-7.72 1.47 1.35L5.41 20z\"/>\n",
              "  </svg>\n",
              "      </button>\n",
              "      \n",
              "  <style>\n",
              "    .colab-df-container {\n",
              "      display:flex;\n",
              "      flex-wrap:wrap;\n",
              "      gap: 12px;\n",
              "    }\n",
              "\n",
              "    .colab-df-convert {\n",
              "      background-color: #E8F0FE;\n",
              "      border: none;\n",
              "      border-radius: 50%;\n",
              "      cursor: pointer;\n",
              "      display: none;\n",
              "      fill: #1967D2;\n",
              "      height: 32px;\n",
              "      padding: 0 0 0 0;\n",
              "      width: 32px;\n",
              "    }\n",
              "\n",
              "    .colab-df-convert:hover {\n",
              "      background-color: #E2EBFA;\n",
              "      box-shadow: 0px 1px 2px rgba(60, 64, 67, 0.3), 0px 1px 3px 1px rgba(60, 64, 67, 0.15);\n",
              "      fill: #174EA6;\n",
              "    }\n",
              "\n",
              "    [theme=dark] .colab-df-convert {\n",
              "      background-color: #3B4455;\n",
              "      fill: #D2E3FC;\n",
              "    }\n",
              "\n",
              "    [theme=dark] .colab-df-convert:hover {\n",
              "      background-color: #434B5C;\n",
              "      box-shadow: 0px 1px 3px 1px rgba(0, 0, 0, 0.15);\n",
              "      filter: drop-shadow(0px 1px 2px rgba(0, 0, 0, 0.3));\n",
              "      fill: #FFFFFF;\n",
              "    }\n",
              "  </style>\n",
              "\n",
              "      <script>\n",
              "        const buttonEl =\n",
              "          document.querySelector('#df-dc56cb37-43ec-4771-abdf-c799a086822a button.colab-df-convert');\n",
              "        buttonEl.style.display =\n",
              "          google.colab.kernel.accessAllowed ? 'block' : 'none';\n",
              "\n",
              "        async function convertToInteractive(key) {\n",
              "          const element = document.querySelector('#df-dc56cb37-43ec-4771-abdf-c799a086822a');\n",
              "          const dataTable =\n",
              "            await google.colab.kernel.invokeFunction('convertToInteractive',\n",
              "                                                     [key], {});\n",
              "          if (!dataTable) return;\n",
              "\n",
              "          const docLinkHtml = 'Like what you see? Visit the ' +\n",
              "            '<a target=\"_blank\" href=https://colab.research.google.com/notebooks/data_table.ipynb>data table notebook</a>'\n",
              "            + ' to learn more about interactive tables.';\n",
              "          element.innerHTML = '';\n",
              "          dataTable['output_type'] = 'display_data';\n",
              "          await google.colab.output.renderOutput(dataTable, element);\n",
              "          const docLink = document.createElement('div');\n",
              "          docLink.innerHTML = docLinkHtml;\n",
              "          element.appendChild(docLink);\n",
              "        }\n",
              "      </script>\n",
              "    </div>\n",
              "  </div>\n",
              "  "
            ]
          },
          "metadata": {},
          "execution_count": 18
        }
      ]
    },
    {
      "cell_type": "markdown",
      "source": [
        "Utilizar o sweetviz para gerar um relatório com as estatísticas dos dados"
      ],
      "metadata": {
        "id": "IgV-laESI7fg"
      }
    },
    {
      "cell_type": "code",
      "source": [
        "relatorio = sv.analyze(df_base, pairwise_analysis='off')\n",
        "relatorio.show_html('Relatorio_VM_SRAG.html')"
      ],
      "metadata": {
        "colab": {
          "base_uri": "https://localhost:8080/",
          "height": 86,
          "referenced_widgets": [
            "7b193ae3397d47cfa086eeee219e31f6",
            "b0e33e47dee64a339b3e54529b715804",
            "a091d7e97d5d46fcbfe619529a9057f2",
            "a038a296704b4309be3405a0f30f53ac",
            "861118a4fe1a42419da5e97bceae5c32",
            "141252c07f6e4d809cdc1d359060284e",
            "958427c1a962481786d5cd27eb709904",
            "38ff8bd671884f8488e38e90caedd2fc",
            "b978fdeb32314af0b00f8c158d3511f6",
            "f0ad991790e0482da9867b0e70b28746",
            "43b807501a424165be45a99183f80706"
          ]
        },
        "id": "gdMEBEa0psuG",
        "outputId": "db6b25ba-2bce-4d77-98eb-fcc99891f1bc"
      },
      "execution_count": 20,
      "outputs": [
        {
          "output_type": "display_data",
          "data": {
            "text/plain": [
              "                                             |          | [  0%]   00:00 -> (? left)"
            ],
            "application/vnd.jupyter.widget-view+json": {
              "version_major": 2,
              "version_minor": 0,
              "model_id": "7b193ae3397d47cfa086eeee219e31f6"
            }
          },
          "metadata": {}
        },
        {
          "output_type": "stream",
          "name": "stdout",
          "text": [
            "Report Relatorio_VM_SRAG.html was generated! NOTEBOOK/COLAB USERS: the web browser MAY not pop up, regardless, the report IS saved in your notebook/colab files.\n"
          ]
        }
      ]
    },
    {
      "cell_type": "markdown",
      "source": [
        "Preencher os valores NaN (não numéricos) com a média de cada variável"
      ],
      "metadata": {
        "id": "w-ceNqgsIiCC"
      }
    },
    {
      "cell_type": "code",
      "source": [
        "df_base['PM25'].fillna(value=df_base['PM25'].mean(), inplace=True)\n",
        "df_base['O3'].fillna(value=df_base['O3'].mean(), inplace=True)\n",
        "df_base['VM_SRAG'].fillna(value=df_base['VM_SRAG'].mean(), inplace=True)"
      ],
      "metadata": {
        "id": "lN6qpkVryjWV"
      },
      "execution_count": 21,
      "outputs": []
    },
    {
      "cell_type": "code",
      "source": [
        "# Substituir NaN pela mediana\n",
        "#mediana = df['Atributo1'].median()\n",
        "#df['Atributo1'].fillna(mediana, inplace=True)\n",
        "\n",
        "# Substituir NaN pela moda\n",
        "#moda = df['Atributo1'].mode()[0] # O método mode() retorna uma série, pegamos o primeiro elemento\n",
        "#df['Atributo1'].fillna(moda, inplace=True)"
      ],
      "metadata": {
        "id": "BSflO3JzKydV"
      },
      "execution_count": null,
      "outputs": []
    },
    {
      "cell_type": "code",
      "source": [
        "df_base.describe()"
      ],
      "metadata": {
        "colab": {
          "base_uri": "https://localhost:8080/",
          "height": 300
        },
        "id": "26whZHjZHEsB",
        "outputId": "547facf8-a0d8-4d8d-c716-b0f0226d8f25"
      },
      "execution_count": 22,
      "outputs": [
        {
          "output_type": "execute_result",
          "data": {
            "text/plain": [
              "             PM25          O3     VM_SRAG\n",
              "count  767.000000  767.000000  767.000000\n",
              "mean    52.252874   25.000000    6.721884\n",
              "std     22.068416   10.934053    6.399260\n",
              "min      5.000000    1.000000    1.000000\n",
              "25%     37.000000   17.000000    2.000000\n",
              "50%     51.000000   24.000000    5.000000\n",
              "75%     62.000000   31.000000    8.000000\n",
              "max    245.000000   73.000000   48.000000"
            ],
            "text/html": [
              "\n",
              "  <div id=\"df-3356ce48-bce3-4ee6-a0af-dae72a07997d\">\n",
              "    <div class=\"colab-df-container\">\n",
              "      <div>\n",
              "<style scoped>\n",
              "    .dataframe tbody tr th:only-of-type {\n",
              "        vertical-align: middle;\n",
              "    }\n",
              "\n",
              "    .dataframe tbody tr th {\n",
              "        vertical-align: top;\n",
              "    }\n",
              "\n",
              "    .dataframe thead th {\n",
              "        text-align: right;\n",
              "    }\n",
              "</style>\n",
              "<table border=\"1\" class=\"dataframe\">\n",
              "  <thead>\n",
              "    <tr style=\"text-align: right;\">\n",
              "      <th></th>\n",
              "      <th>PM25</th>\n",
              "      <th>O3</th>\n",
              "      <th>VM_SRAG</th>\n",
              "    </tr>\n",
              "  </thead>\n",
              "  <tbody>\n",
              "    <tr>\n",
              "      <th>count</th>\n",
              "      <td>767.000000</td>\n",
              "      <td>767.000000</td>\n",
              "      <td>767.000000</td>\n",
              "    </tr>\n",
              "    <tr>\n",
              "      <th>mean</th>\n",
              "      <td>52.252874</td>\n",
              "      <td>25.000000</td>\n",
              "      <td>6.721884</td>\n",
              "    </tr>\n",
              "    <tr>\n",
              "      <th>std</th>\n",
              "      <td>22.068416</td>\n",
              "      <td>10.934053</td>\n",
              "      <td>6.399260</td>\n",
              "    </tr>\n",
              "    <tr>\n",
              "      <th>min</th>\n",
              "      <td>5.000000</td>\n",
              "      <td>1.000000</td>\n",
              "      <td>1.000000</td>\n",
              "    </tr>\n",
              "    <tr>\n",
              "      <th>25%</th>\n",
              "      <td>37.000000</td>\n",
              "      <td>17.000000</td>\n",
              "      <td>2.000000</td>\n",
              "    </tr>\n",
              "    <tr>\n",
              "      <th>50%</th>\n",
              "      <td>51.000000</td>\n",
              "      <td>24.000000</td>\n",
              "      <td>5.000000</td>\n",
              "    </tr>\n",
              "    <tr>\n",
              "      <th>75%</th>\n",
              "      <td>62.000000</td>\n",
              "      <td>31.000000</td>\n",
              "      <td>8.000000</td>\n",
              "    </tr>\n",
              "    <tr>\n",
              "      <th>max</th>\n",
              "      <td>245.000000</td>\n",
              "      <td>73.000000</td>\n",
              "      <td>48.000000</td>\n",
              "    </tr>\n",
              "  </tbody>\n",
              "</table>\n",
              "</div>\n",
              "      <button class=\"colab-df-convert\" onclick=\"convertToInteractive('df-3356ce48-bce3-4ee6-a0af-dae72a07997d')\"\n",
              "              title=\"Convert this dataframe to an interactive table.\"\n",
              "              style=\"display:none;\">\n",
              "        \n",
              "  <svg xmlns=\"http://www.w3.org/2000/svg\" height=\"24px\"viewBox=\"0 0 24 24\"\n",
              "       width=\"24px\">\n",
              "    <path d=\"M0 0h24v24H0V0z\" fill=\"none\"/>\n",
              "    <path d=\"M18.56 5.44l.94 2.06.94-2.06 2.06-.94-2.06-.94-.94-2.06-.94 2.06-2.06.94zm-11 1L8.5 8.5l.94-2.06 2.06-.94-2.06-.94L8.5 2.5l-.94 2.06-2.06.94zm10 10l.94 2.06.94-2.06 2.06-.94-2.06-.94-.94-2.06-.94 2.06-2.06.94z\"/><path d=\"M17.41 7.96l-1.37-1.37c-.4-.4-.92-.59-1.43-.59-.52 0-1.04.2-1.43.59L10.3 9.45l-7.72 7.72c-.78.78-.78 2.05 0 2.83L4 21.41c.39.39.9.59 1.41.59.51 0 1.02-.2 1.41-.59l7.78-7.78 2.81-2.81c.8-.78.8-2.07 0-2.86zM5.41 20L4 18.59l7.72-7.72 1.47 1.35L5.41 20z\"/>\n",
              "  </svg>\n",
              "      </button>\n",
              "      \n",
              "  <style>\n",
              "    .colab-df-container {\n",
              "      display:flex;\n",
              "      flex-wrap:wrap;\n",
              "      gap: 12px;\n",
              "    }\n",
              "\n",
              "    .colab-df-convert {\n",
              "      background-color: #E8F0FE;\n",
              "      border: none;\n",
              "      border-radius: 50%;\n",
              "      cursor: pointer;\n",
              "      display: none;\n",
              "      fill: #1967D2;\n",
              "      height: 32px;\n",
              "      padding: 0 0 0 0;\n",
              "      width: 32px;\n",
              "    }\n",
              "\n",
              "    .colab-df-convert:hover {\n",
              "      background-color: #E2EBFA;\n",
              "      box-shadow: 0px 1px 2px rgba(60, 64, 67, 0.3), 0px 1px 3px 1px rgba(60, 64, 67, 0.15);\n",
              "      fill: #174EA6;\n",
              "    }\n",
              "\n",
              "    [theme=dark] .colab-df-convert {\n",
              "      background-color: #3B4455;\n",
              "      fill: #D2E3FC;\n",
              "    }\n",
              "\n",
              "    [theme=dark] .colab-df-convert:hover {\n",
              "      background-color: #434B5C;\n",
              "      box-shadow: 0px 1px 3px 1px rgba(0, 0, 0, 0.15);\n",
              "      filter: drop-shadow(0px 1px 2px rgba(0, 0, 0, 0.3));\n",
              "      fill: #FFFFFF;\n",
              "    }\n",
              "  </style>\n",
              "\n",
              "      <script>\n",
              "        const buttonEl =\n",
              "          document.querySelector('#df-3356ce48-bce3-4ee6-a0af-dae72a07997d button.colab-df-convert');\n",
              "        buttonEl.style.display =\n",
              "          google.colab.kernel.accessAllowed ? 'block' : 'none';\n",
              "\n",
              "        async function convertToInteractive(key) {\n",
              "          const element = document.querySelector('#df-3356ce48-bce3-4ee6-a0af-dae72a07997d');\n",
              "          const dataTable =\n",
              "            await google.colab.kernel.invokeFunction('convertToInteractive',\n",
              "                                                     [key], {});\n",
              "          if (!dataTable) return;\n",
              "\n",
              "          const docLinkHtml = 'Like what you see? Visit the ' +\n",
              "            '<a target=\"_blank\" href=https://colab.research.google.com/notebooks/data_table.ipynb>data table notebook</a>'\n",
              "            + ' to learn more about interactive tables.';\n",
              "          element.innerHTML = '';\n",
              "          dataTable['output_type'] = 'display_data';\n",
              "          await google.colab.output.renderOutput(dataTable, element);\n",
              "          const docLink = document.createElement('div');\n",
              "          docLink.innerHTML = docLinkHtml;\n",
              "          element.appendChild(docLink);\n",
              "        }\n",
              "      </script>\n",
              "    </div>\n",
              "  </div>\n",
              "  "
            ]
          },
          "metadata": {},
          "execution_count": 22
        }
      ]
    },
    {
      "cell_type": "code",
      "source": [
        "df_base.info()\n",
        "\n",
        "# definir função de normalização de logaritmo\n",
        "#def normalizar_df_com_log(x):\n",
        "    #return np.log(x) / np.max(np.log(x))\n",
        "\n",
        "# aplicar a função de normalização as colunas PM25, O3 e VM_SRAG\n",
        "#df_base['PM25'] = df_base['PM25'].apply(normalizar_df_com_log)\n",
        "#df_base['O3'] = df_base['O3'].apply(normalizar_df_com_log)\n",
        "#df_base['VM_SRAG'] = df_base['VM_SRAG'].apply(normalizar_df_com_log)\n"
      ],
      "metadata": {
        "colab": {
          "base_uri": "https://localhost:8080/"
        },
        "id": "LdA5v_msEmrM",
        "outputId": "ec916bdc-5ba1-41db-e3ef-5b9d8b33ac75"
      },
      "execution_count": 23,
      "outputs": [
        {
          "output_type": "stream",
          "name": "stdout",
          "text": [
            "<class 'pandas.core.frame.DataFrame'>\n",
            "Int64Index: 767 entries, 0 to 1102\n",
            "Data columns (total 4 columns):\n",
            " #   Column   Non-Null Count  Dtype         \n",
            "---  ------   --------------  -----         \n",
            " 0   Data     767 non-null    datetime64[ns]\n",
            " 1   PM25     767 non-null    float64       \n",
            " 2   O3       767 non-null    float64       \n",
            " 3   VM_SRAG  767 non-null    float64       \n",
            "dtypes: datetime64[ns](1), float64(3)\n",
            "memory usage: 30.0 KB\n"
          ]
        }
      ]
    },
    {
      "cell_type": "code",
      "source": [
        "df_corr = df_base\n",
        "df_corr['Dias'] = (pd.to_datetime(df_corr['Data']) - pd.to_datetime('1900-01-01')).dt.days\n",
        "df_corr = df_corr.drop(['Data'], axis = 1)\n",
        "df_corr"
      ],
      "metadata": {
        "colab": {
          "base_uri": "https://localhost:8080/",
          "height": 424
        },
        "id": "lQ8PY2pIG0fu",
        "outputId": "6b6e2aa3-45bb-444c-b240-8b7e5160954f"
      },
      "execution_count": 24,
      "outputs": [
        {
          "output_type": "execute_result",
          "data": {
            "text/plain": [
              "           PM25    O3    VM_SRAG   Dias\n",
              "0     35.000000  24.0   3.000000  44991\n",
              "1     47.000000   2.0   6.721884  44992\n",
              "2     50.000000  18.0   6.721884  44993\n",
              "3     52.000000  23.0   2.000000  44994\n",
              "4     37.000000  14.0   1.000000  44995\n",
              "...         ...   ...        ...    ...\n",
              "1098  52.252874  13.0  17.000000  44366\n",
              "1099  52.252874  11.0  11.000000  44374\n",
              "1100  52.252874  30.0  15.000000  44247\n",
              "1101  52.252874  26.0  20.000000  44254\n",
              "1102  52.252874  23.0  15.000000  44272\n",
              "\n",
              "[767 rows x 4 columns]"
            ],
            "text/html": [
              "\n",
              "  <div id=\"df-e4abaa10-31b4-4eec-898e-64e93f4fe073\">\n",
              "    <div class=\"colab-df-container\">\n",
              "      <div>\n",
              "<style scoped>\n",
              "    .dataframe tbody tr th:only-of-type {\n",
              "        vertical-align: middle;\n",
              "    }\n",
              "\n",
              "    .dataframe tbody tr th {\n",
              "        vertical-align: top;\n",
              "    }\n",
              "\n",
              "    .dataframe thead th {\n",
              "        text-align: right;\n",
              "    }\n",
              "</style>\n",
              "<table border=\"1\" class=\"dataframe\">\n",
              "  <thead>\n",
              "    <tr style=\"text-align: right;\">\n",
              "      <th></th>\n",
              "      <th>PM25</th>\n",
              "      <th>O3</th>\n",
              "      <th>VM_SRAG</th>\n",
              "      <th>Dias</th>\n",
              "    </tr>\n",
              "  </thead>\n",
              "  <tbody>\n",
              "    <tr>\n",
              "      <th>0</th>\n",
              "      <td>35.000000</td>\n",
              "      <td>24.0</td>\n",
              "      <td>3.000000</td>\n",
              "      <td>44991</td>\n",
              "    </tr>\n",
              "    <tr>\n",
              "      <th>1</th>\n",
              "      <td>47.000000</td>\n",
              "      <td>2.0</td>\n",
              "      <td>6.721884</td>\n",
              "      <td>44992</td>\n",
              "    </tr>\n",
              "    <tr>\n",
              "      <th>2</th>\n",
              "      <td>50.000000</td>\n",
              "      <td>18.0</td>\n",
              "      <td>6.721884</td>\n",
              "      <td>44993</td>\n",
              "    </tr>\n",
              "    <tr>\n",
              "      <th>3</th>\n",
              "      <td>52.000000</td>\n",
              "      <td>23.0</td>\n",
              "      <td>2.000000</td>\n",
              "      <td>44994</td>\n",
              "    </tr>\n",
              "    <tr>\n",
              "      <th>4</th>\n",
              "      <td>37.000000</td>\n",
              "      <td>14.0</td>\n",
              "      <td>1.000000</td>\n",
              "      <td>44995</td>\n",
              "    </tr>\n",
              "    <tr>\n",
              "      <th>...</th>\n",
              "      <td>...</td>\n",
              "      <td>...</td>\n",
              "      <td>...</td>\n",
              "      <td>...</td>\n",
              "    </tr>\n",
              "    <tr>\n",
              "      <th>1098</th>\n",
              "      <td>52.252874</td>\n",
              "      <td>13.0</td>\n",
              "      <td>17.000000</td>\n",
              "      <td>44366</td>\n",
              "    </tr>\n",
              "    <tr>\n",
              "      <th>1099</th>\n",
              "      <td>52.252874</td>\n",
              "      <td>11.0</td>\n",
              "      <td>11.000000</td>\n",
              "      <td>44374</td>\n",
              "    </tr>\n",
              "    <tr>\n",
              "      <th>1100</th>\n",
              "      <td>52.252874</td>\n",
              "      <td>30.0</td>\n",
              "      <td>15.000000</td>\n",
              "      <td>44247</td>\n",
              "    </tr>\n",
              "    <tr>\n",
              "      <th>1101</th>\n",
              "      <td>52.252874</td>\n",
              "      <td>26.0</td>\n",
              "      <td>20.000000</td>\n",
              "      <td>44254</td>\n",
              "    </tr>\n",
              "    <tr>\n",
              "      <th>1102</th>\n",
              "      <td>52.252874</td>\n",
              "      <td>23.0</td>\n",
              "      <td>15.000000</td>\n",
              "      <td>44272</td>\n",
              "    </tr>\n",
              "  </tbody>\n",
              "</table>\n",
              "<p>767 rows × 4 columns</p>\n",
              "</div>\n",
              "      <button class=\"colab-df-convert\" onclick=\"convertToInteractive('df-e4abaa10-31b4-4eec-898e-64e93f4fe073')\"\n",
              "              title=\"Convert this dataframe to an interactive table.\"\n",
              "              style=\"display:none;\">\n",
              "        \n",
              "  <svg xmlns=\"http://www.w3.org/2000/svg\" height=\"24px\"viewBox=\"0 0 24 24\"\n",
              "       width=\"24px\">\n",
              "    <path d=\"M0 0h24v24H0V0z\" fill=\"none\"/>\n",
              "    <path d=\"M18.56 5.44l.94 2.06.94-2.06 2.06-.94-2.06-.94-.94-2.06-.94 2.06-2.06.94zm-11 1L8.5 8.5l.94-2.06 2.06-.94-2.06-.94L8.5 2.5l-.94 2.06-2.06.94zm10 10l.94 2.06.94-2.06 2.06-.94-2.06-.94-.94-2.06-.94 2.06-2.06.94z\"/><path d=\"M17.41 7.96l-1.37-1.37c-.4-.4-.92-.59-1.43-.59-.52 0-1.04.2-1.43.59L10.3 9.45l-7.72 7.72c-.78.78-.78 2.05 0 2.83L4 21.41c.39.39.9.59 1.41.59.51 0 1.02-.2 1.41-.59l7.78-7.78 2.81-2.81c.8-.78.8-2.07 0-2.86zM5.41 20L4 18.59l7.72-7.72 1.47 1.35L5.41 20z\"/>\n",
              "  </svg>\n",
              "      </button>\n",
              "      \n",
              "  <style>\n",
              "    .colab-df-container {\n",
              "      display:flex;\n",
              "      flex-wrap:wrap;\n",
              "      gap: 12px;\n",
              "    }\n",
              "\n",
              "    .colab-df-convert {\n",
              "      background-color: #E8F0FE;\n",
              "      border: none;\n",
              "      border-radius: 50%;\n",
              "      cursor: pointer;\n",
              "      display: none;\n",
              "      fill: #1967D2;\n",
              "      height: 32px;\n",
              "      padding: 0 0 0 0;\n",
              "      width: 32px;\n",
              "    }\n",
              "\n",
              "    .colab-df-convert:hover {\n",
              "      background-color: #E2EBFA;\n",
              "      box-shadow: 0px 1px 2px rgba(60, 64, 67, 0.3), 0px 1px 3px 1px rgba(60, 64, 67, 0.15);\n",
              "      fill: #174EA6;\n",
              "    }\n",
              "\n",
              "    [theme=dark] .colab-df-convert {\n",
              "      background-color: #3B4455;\n",
              "      fill: #D2E3FC;\n",
              "    }\n",
              "\n",
              "    [theme=dark] .colab-df-convert:hover {\n",
              "      background-color: #434B5C;\n",
              "      box-shadow: 0px 1px 3px 1px rgba(0, 0, 0, 0.15);\n",
              "      filter: drop-shadow(0px 1px 2px rgba(0, 0, 0, 0.3));\n",
              "      fill: #FFFFFF;\n",
              "    }\n",
              "  </style>\n",
              "\n",
              "      <script>\n",
              "        const buttonEl =\n",
              "          document.querySelector('#df-e4abaa10-31b4-4eec-898e-64e93f4fe073 button.colab-df-convert');\n",
              "        buttonEl.style.display =\n",
              "          google.colab.kernel.accessAllowed ? 'block' : 'none';\n",
              "\n",
              "        async function convertToInteractive(key) {\n",
              "          const element = document.querySelector('#df-e4abaa10-31b4-4eec-898e-64e93f4fe073');\n",
              "          const dataTable =\n",
              "            await google.colab.kernel.invokeFunction('convertToInteractive',\n",
              "                                                     [key], {});\n",
              "          if (!dataTable) return;\n",
              "\n",
              "          const docLinkHtml = 'Like what you see? Visit the ' +\n",
              "            '<a target=\"_blank\" href=https://colab.research.google.com/notebooks/data_table.ipynb>data table notebook</a>'\n",
              "            + ' to learn more about interactive tables.';\n",
              "          element.innerHTML = '';\n",
              "          dataTable['output_type'] = 'display_data';\n",
              "          await google.colab.output.renderOutput(dataTable, element);\n",
              "          const docLink = document.createElement('div');\n",
              "          docLink.innerHTML = docLinkHtml;\n",
              "          element.appendChild(docLink);\n",
              "        }\n",
              "      </script>\n",
              "    </div>\n",
              "  </div>\n",
              "  "
            ]
          },
          "metadata": {},
          "execution_count": 24
        }
      ]
    },
    {
      "cell_type": "markdown",
      "source": [
        "Gerar uma matriz de correlação entre as variáveis do dataframe base"
      ],
      "metadata": {
        "id": "h9I4gOl6JjjK"
      }
    },
    {
      "cell_type": "code",
      "source": [
        "corr_matriz1 = df_corr.corr()"
      ],
      "metadata": {
        "id": "M2TxLGXdpk72"
      },
      "execution_count": 25,
      "outputs": []
    },
    {
      "cell_type": "markdown",
      "source": [
        "Plotar o Mapa de Calor com as correlações calculadas"
      ],
      "metadata": {
        "id": "_-E-owWFJqcu"
      }
    },
    {
      "cell_type": "code",
      "source": [
        "sns.heatmap(corr_matriz1, annot=True, cmap='coolwarm', linewidths=.5)\n",
        "plt.title('Correlação entre as variáveis QA-SRAG')\n",
        "plt.xlabel('Variáveis')\n",
        "plt.ylabel('Variáveis')\n",
        "plt.show()"
      ],
      "metadata": {
        "colab": {
          "base_uri": "https://localhost:8080/",
          "height": 466
        },
        "id": "XUj8zSjn6gyF",
        "outputId": "6fb7f1b5-365b-4524-c6a9-29c7b215f16f"
      },
      "execution_count": 26,
      "outputs": [
        {
          "output_type": "display_data",
          "data": {
            "text/plain": [
              "<Figure size 640x480 with 2 Axes>"
            ],
            "image/png": "[encoded data removed]"
          },
          "metadata": {}
        }
      ]
    },
    {
      "cell_type": "markdown",
      "source": [
        "Plotar gráfico com dados do dataframe ao longo dos anos de 2020 a 2023."
      ],
      "metadata": {
        "id": "NZzZyI86IawX"
      }
    },
    {
      "cell_type": "code",
      "source": [
        "df_base['Data'] = pd.to_datetime(df_base['Data'], format='%d/%m/%Y')"
      ],
      "metadata": {
        "id": "dZ22dCgQMmgv"
      },
      "execution_count": 27,
      "outputs": []
    },
    {
      "cell_type": "code",
      "source": [
        "df_base = df_base.sort_values(['Data'], ascending=True)\n",
        "print(df_base)"
      ],
      "metadata": {
        "colab": {
          "base_uri": "https://localhost:8080/"
        },
        "id": "mg3Sbze1MN35",
        "outputId": "0ccfd1f5-c3b5-4aa0-de73-7197c27972b9"
      },
      "execution_count": 28,
      "outputs": [
        {
          "output_type": "stream",
          "name": "stdout",
          "text": [
            "          Data  PM25    O3    VM_SRAG   Dias\n",
            "625 2021-01-07  36.0  27.0   8.000000  44201\n",
            "626 2021-01-08  23.0  25.0  10.000000  44202\n",
            "627 2021-01-09  35.0  27.0  14.000000  44203\n",
            "628 2021-01-10  54.0  26.0   6.000000  44204\n",
            "629 2021-01-11  44.0  31.0  20.000000  44205\n",
            "..         ...   ...   ...        ...    ...\n",
            "4   2023-03-12  37.0  14.0   1.000000  44995\n",
            "5   2023-03-13  31.0  13.0   2.000000  44996\n",
            "6   2023-03-14  40.0  17.0   5.000000  44997\n",
            "7   2023-03-15  51.0  21.0   2.000000  44998\n",
            "8   2023-03-16  44.0  30.0   6.721884  44999\n",
            "\n",
            "[767 rows x 5 columns]\n"
          ]
        }
      ]
    },
    {
      "cell_type": "markdown",
      "source": [
        "Ajustando um dataframe ordenado por ano, com a soma de todos os casos por mês"
      ],
      "metadata": {
        "id": "C8CTuO2x2IyI"
      }
    },
    {
      "cell_type": "code",
      "source": [
        "df_base_mmAAAA = df_base.groupby([df_base['Data'].dt.year, df_base['Data'].dt.month])['VM_SRAG'].sum()"
      ],
      "metadata": {
        "id": "CoTW9l9dMDMd"
      },
      "execution_count": 29,
      "outputs": []
    },
    {
      "cell_type": "code",
      "source": [
        "df_base_mmAAAA"
      ],
      "metadata": {
        "colab": {
          "base_uri": "https://localhost:8080/"
        },
        "id": "fs_FJUuRSDvm",
        "outputId": "7f883e51-7180-4cf7-d5c2-04ffa7a9b685"
      },
      "execution_count": 30,
      "outputs": [
        {
          "output_type": "execute_result",
          "data": {
            "text/plain": [
              "Data  Data\n",
              "2021  1       270.000000\n",
              "      2       250.000000\n",
              "      3       549.000000\n",
              "      4       484.000000\n",
              "      5       446.000000\n",
              "      6       319.000000\n",
              "      7       276.721884\n",
              "      8       183.000000\n",
              "      9       173.721884\n",
              "      10      121.053191\n",
              "      11      104.609422\n",
              "      12      141.165653\n",
              "2022  1       304.721884\n",
              "      2       138.609422\n",
              "      3       114.775076\n",
              "      4       112.662614\n",
              "      5        94.165653\n",
              "      6       183.887538\n",
              "      7       123.887538\n",
              "      8        91.887538\n",
              "      9       111.218845\n",
              "      10      117.662614\n",
              "      11      112.443769\n",
              "      12       99.331307\n",
              "2023  1       107.218845\n",
              "      2        85.775076\n",
              "      3        39.165653\n",
              "Name: VM_SRAG, dtype: float64"
            ]
          },
          "metadata": {},
          "execution_count": 30
        }
      ]
    },
    {
      "cell_type": "markdown",
      "source": [
        "Plotando gráfico de internação por mês/ano"
      ],
      "metadata": {
        "id": "lgXEeIiH2X_3"
      }
    },
    {
      "cell_type": "code",
      "source": [
        "df_base_mmAAAA.plot(kind='line', figsize=(10, 5))\n",
        "plt.title('Número de internações por mês')\n",
        "plt.xlabel('Mês/Ano')\n",
        "plt.ylabel('Internações')\n",
        "plt.show()"
      ],
      "metadata": {
        "colab": {
          "base_uri": "https://localhost:8080/",
          "height": 483
        },
        "id": "NJ7KJ5PeO_so",
        "outputId": "8c808c99-a78f-45d7-f2cd-51945b132f1f"
      },
      "execution_count": 31,
      "outputs": [
        {
          "output_type": "display_data",
          "data": {
            "text/plain": [
              "<Figure size 1000x500 with 1 Axes>"
            ],
            "image/png": "[encoded data removed]"
          },
          "metadata": {}
        }
      ]
    },
    {
      "cell_type": "markdown",
      "source": [
        "Normalizar os dados aplicando uma transformação MinMax com intevalo de 0 até 1"
      ],
      "metadata": {
        "id": "j8NLd2IiGp9Q"
      }
    },
    {
      "cell_type": "code",
      "source": [
        "# Criar instância do MinMaxScaler\n",
        "#normalizador = MinMaxScaler(feature_range = (0,1))\n",
        "\n",
        "#Cria um dataframe apenas com dados numéricos\n",
        "#df_num = df_base.select_dtypes(include=['float64'])\n",
        "\n",
        "# Normaliza os dados do DataFrame com dados numéricos\n",
        "#df_num = pd.DataFrame(normalizador.fit_transform(df_num), columns=df_num.columns)\n",
        "\n",
        "# Combina os dados normalizados com a coluna de data\n",
        "#df_norm = pd.concat([df_base['Data'], df_num], axis=1)\n",
        "\n",
        "#df_norm"
      ],
      "metadata": {
        "id": "nDuW2ppwN2WL"
      },
      "execution_count": null,
      "outputs": []
    },
    {
      "cell_type": "code",
      "source": [
        "#df_norm.iloc[1113:1127]"
      ],
      "metadata": {
        "id": "eXzWSMZk14tn"
      },
      "execution_count": null,
      "outputs": []
    },
    {
      "cell_type": "markdown",
      "source": [
        "Eliminar linhas com valores nulos"
      ],
      "metadata": {
        "id": "iO-Dbw263GkA"
      }
    },
    {
      "cell_type": "code",
      "source": [
        "#df_norm = df_norm.reindex(df_norm.index.drop(1126))\n",
        "#df_norm = df_norm.reindex(df_norm.index.drop(1114))"
      ],
      "metadata": {
        "id": "hUSogTLlTl2F"
      },
      "execution_count": null,
      "outputs": []
    },
    {
      "cell_type": "code",
      "source": [
        "#df_norm"
      ],
      "metadata": {
        "id": "v2EcqyEwQEKX"
      },
      "execution_count": null,
      "outputs": []
    },
    {
      "cell_type": "markdown",
      "source": [
        "Criar dataframe ordenado por data"
      ],
      "metadata": {
        "id": "WYDgtTC63LaV"
      }
    },
    {
      "cell_type": "code",
      "source": [
        "#df_norm_bydate = df_norm.sort_values(['Data'], ascending=True)\n"
      ],
      "metadata": {
        "id": "Yh8jE9cXWwpM"
      },
      "execution_count": null,
      "outputs": []
    },
    {
      "cell_type": "code",
      "source": [
        "#df_norm_bydate = df_norm_bydate.reset_index(drop=True)\n",
        "#df_norm_bydate"
      ],
      "metadata": {
        "id": "rCVjBxcbgpQp"
      },
      "execution_count": null,
      "outputs": []
    },
    {
      "cell_type": "markdown",
      "source": [
        "Gerar Matriz de Correlação com dados normalizados"
      ],
      "metadata": {
        "id": "qs1Lu76KhnnH"
      }
    },
    {
      "cell_type": "code",
      "source": [
        "#corr_matriz2 = df_norm_bydate.corr()"
      ],
      "metadata": {
        "id": "nGVzEGcxf6rW"
      },
      "execution_count": null,
      "outputs": []
    },
    {
      "cell_type": "markdown",
      "source": [
        "Gerar Heatmap com dados normalizados "
      ],
      "metadata": {
        "id": "0W0xFXd2ht8c"
      }
    },
    {
      "cell_type": "code",
      "source": [
        "#sns.heatmap(corr_matriz2, annot=True, cmap='coolwarm', linewidths=.5)\n",
        "#plt.title('Correlação entre as variáveis QA-SRAG')\n",
        "#plt.xlabel('Variáveis')\n",
        "#plt.ylabel('Variáveis')\n",
        "#plt.show()"
      ],
      "metadata": {
        "id": "zRrZdLnrh3p7"
      },
      "execution_count": null,
      "outputs": []
    },
    {
      "cell_type": "markdown",
      "source": [],
      "metadata": {
        "id": "bpJj9wYwiIWa"
      }
    },
    {
      "cell_type": "code",
      "source": [
        "#sns.pairplot(df_norm_bydate)"
      ],
      "metadata": {
        "id": "dypWYkzPiNC7"
      },
      "execution_count": 32,
      "outputs": []
    },
    {
      "cell_type": "markdown",
      "source": [
        "Separação Treino/Validação/Teste"
      ],
      "metadata": {
        "id": "6Xrt_NgkpD7P"
      }
    },
    {
      "cell_type": "markdown",
      "source": [
        "O código seguinte cria um dataframe 1-c de todos os valores que constam na coluna VM_SRAG"
      ],
      "metadata": {
        "id": "qNvj5k95nR4h"
      }
    },
    {
      "cell_type": "code",
      "source": [
        "# Utilizar Dataframe normalizado\n",
        "#Y = pd.get_dummies(df_norm_bydate ['VM_SRAG'])"
      ],
      "metadata": {
        "id": "Ewd67k_YeYIx"
      },
      "execution_count": null,
      "outputs": []
    },
    {
      "cell_type": "markdown",
      "source": [
        "Criar um dataframe apenas com a coluna VM_SRAG, sem normalização"
      ],
      "metadata": {
        "id": "oJ--U5Lc4JmO"
      }
    },
    {
      "cell_type": "code",
      "source": [
        "# Utilizar dataframe não normalizado\n",
        "Y = df_base.drop(['Data','PM25','O3','Dias'], axis = 1)\n",
        "Y"
      ],
      "metadata": {
        "colab": {
          "base_uri": "https://localhost:8080/",
          "height": 424
        },
        "id": "TvqRCQeO4Fvv",
        "outputId": "02b042d0-71cf-4c22-822a-819e12490377"
      },
      "execution_count": 129,
      "outputs": [
        {
          "output_type": "execute_result",
          "data": {
            "text/plain": [
              "       VM_SRAG\n",
              "625   8.000000\n",
              "626  10.000000\n",
              "627  14.000000\n",
              "628   6.000000\n",
              "629  20.000000\n",
              "..         ...\n",
              "4     1.000000\n",
              "5     2.000000\n",
              "6     5.000000\n",
              "7     2.000000\n",
              "8     6.721884\n",
              "\n",
              "[767 rows x 1 columns]"
            ],
            "text/html": [
              "\n",
              "  <div id=\"df-7aecd97f-ba9e-499c-ae1f-6e5ab55f4903\">\n",
              "    <div class=\"colab-df-container\">\n",
              "      <div>\n",
              "<style scoped>\n",
              "    .dataframe tbody tr th:only-of-type {\n",
              "        vertical-align: middle;\n",
              "    }\n",
              "\n",
              "    .dataframe tbody tr th {\n",
              "        vertical-align: top;\n",
              "    }\n",
              "\n",
              "    .dataframe thead th {\n",
              "        text-align: right;\n",
              "    }\n",
              "</style>\n",
              "<table border=\"1\" class=\"dataframe\">\n",
              "  <thead>\n",
              "    <tr style=\"text-align: right;\">\n",
              "      <th></th>\n",
              "      <th>VM_SRAG</th>\n",
              "    </tr>\n",
              "  </thead>\n",
              "  <tbody>\n",
              "    <tr>\n",
              "      <th>625</th>\n",
              "      <td>8.000000</td>\n",
              "    </tr>\n",
              "    <tr>\n",
              "      <th>626</th>\n",
              "      <td>10.000000</td>\n",
              "    </tr>\n",
              "    <tr>\n",
              "      <th>627</th>\n",
              "      <td>14.000000</td>\n",
              "    </tr>\n",
              "    <tr>\n",
              "      <th>628</th>\n",
              "      <td>6.000000</td>\n",
              "    </tr>\n",
              "    <tr>\n",
              "      <th>629</th>\n",
              "      <td>20.000000</td>\n",
              "    </tr>\n",
              "    <tr>\n",
              "      <th>...</th>\n",
              "      <td>...</td>\n",
              "    </tr>\n",
              "    <tr>\n",
              "      <th>4</th>\n",
              "      <td>1.000000</td>\n",
              "    </tr>\n",
              "    <tr>\n",
              "      <th>5</th>\n",
              "      <td>2.000000</td>\n",
              "    </tr>\n",
              "    <tr>\n",
              "      <th>6</th>\n",
              "      <td>5.000000</td>\n",
              "    </tr>\n",
              "    <tr>\n",
              "      <th>7</th>\n",
              "      <td>2.000000</td>\n",
              "    </tr>\n",
              "    <tr>\n",
              "      <th>8</th>\n",
              "      <td>6.721884</td>\n",
              "    </tr>\n",
              "  </tbody>\n",
              "</table>\n",
              "<p>767 rows × 1 columns</p>\n",
              "</div>\n",
              "      <button class=\"colab-df-convert\" onclick=\"convertToInteractive('df-7aecd97f-ba9e-499c-ae1f-6e5ab55f4903')\"\n",
              "              title=\"Convert this dataframe to an interactive table.\"\n",
              "              style=\"display:none;\">\n",
              "        \n",
              "  <svg xmlns=\"http://www.w3.org/2000/svg\" height=\"24px\"viewBox=\"0 0 24 24\"\n",
              "       width=\"24px\">\n",
              "    <path d=\"M0 0h24v24H0V0z\" fill=\"none\"/>\n",
              "    <path d=\"M18.56 5.44l.94 2.06.94-2.06 2.06-.94-2.06-.94-.94-2.06-.94 2.06-2.06.94zm-11 1L8.5 8.5l.94-2.06 2.06-.94-2.06-.94L8.5 2.5l-.94 2.06-2.06.94zm10 10l.94 2.06.94-2.06 2.06-.94-2.06-.94-.94-2.06-.94 2.06-2.06.94z\"/><path d=\"M17.41 7.96l-1.37-1.37c-.4-.4-.92-.59-1.43-.59-.52 0-1.04.2-1.43.59L10.3 9.45l-7.72 7.72c-.78.78-.78 2.05 0 2.83L4 21.41c.39.39.9.59 1.41.59.51 0 1.02-.2 1.41-.59l7.78-7.78 2.81-2.81c.8-.78.8-2.07 0-2.86zM5.41 20L4 18.59l7.72-7.72 1.47 1.35L5.41 20z\"/>\n",
              "  </svg>\n",
              "      </button>\n",
              "      \n",
              "  <style>\n",
              "    .colab-df-container {\n",
              "      display:flex;\n",
              "      flex-wrap:wrap;\n",
              "      gap: 12px;\n",
              "    }\n",
              "\n",
              "    .colab-df-convert {\n",
              "      background-color: #E8F0FE;\n",
              "      border: none;\n",
              "      border-radius: 50%;\n",
              "      cursor: pointer;\n",
              "      display: none;\n",
              "      fill: #1967D2;\n",
              "      height: 32px;\n",
              "      padding: 0 0 0 0;\n",
              "      width: 32px;\n",
              "    }\n",
              "\n",
              "    .colab-df-convert:hover {\n",
              "      background-color: #E2EBFA;\n",
              "      box-shadow: 0px 1px 2px rgba(60, 64, 67, 0.3), 0px 1px 3px 1px rgba(60, 64, 67, 0.15);\n",
              "      fill: #174EA6;\n",
              "    }\n",
              "\n",
              "    [theme=dark] .colab-df-convert {\n",
              "      background-color: #3B4455;\n",
              "      fill: #D2E3FC;\n",
              "    }\n",
              "\n",
              "    [theme=dark] .colab-df-convert:hover {\n",
              "      background-color: #434B5C;\n",
              "      box-shadow: 0px 1px 3px 1px rgba(0, 0, 0, 0.15);\n",
              "      filter: drop-shadow(0px 1px 2px rgba(0, 0, 0, 0.3));\n",
              "      fill: #FFFFFF;\n",
              "    }\n",
              "  </style>\n",
              "\n",
              "      <script>\n",
              "        const buttonEl =\n",
              "          document.querySelector('#df-7aecd97f-ba9e-499c-ae1f-6e5ab55f4903 button.colab-df-convert');\n",
              "        buttonEl.style.display =\n",
              "          google.colab.kernel.accessAllowed ? 'block' : 'none';\n",
              "\n",
              "        async function convertToInteractive(key) {\n",
              "          const element = document.querySelector('#df-7aecd97f-ba9e-499c-ae1f-6e5ab55f4903');\n",
              "          const dataTable =\n",
              "            await google.colab.kernel.invokeFunction('convertToInteractive',\n",
              "                                                     [key], {});\n",
              "          if (!dataTable) return;\n",
              "\n",
              "          const docLinkHtml = 'Like what you see? Visit the ' +\n",
              "            '<a target=\"_blank\" href=https://colab.research.google.com/notebooks/data_table.ipynb>data table notebook</a>'\n",
              "            + ' to learn more about interactive tables.';\n",
              "          element.innerHTML = '';\n",
              "          dataTable['output_type'] = 'display_data';\n",
              "          await google.colab.output.renderOutput(dataTable, element);\n",
              "          const docLink = document.createElement('div');\n",
              "          docLink.innerHTML = docLinkHtml;\n",
              "          element.appendChild(docLink);\n",
              "        }\n",
              "      </script>\n",
              "    </div>\n",
              "  </div>\n",
              "  "
            ]
          },
          "metadata": {},
          "execution_count": 129
        }
      ]
    },
    {
      "cell_type": "code",
      "source": [
        "# Utilizar Dataframe normalizado\n",
        "#X = df_norm_bydate.drop(['Data','VM_SRAG'], axis=1)\n",
        "\n",
        "# Utilizar Dataframe não normalizado\n",
        "X = df_base.drop(['Data','VM_SRAG'], axis=1)\n",
        "\n",
        "X"
      ],
      "metadata": {
        "colab": {
          "base_uri": "https://localhost:8080/",
          "height": 424
        },
        "id": "w5KJS1tPaa30",
        "outputId": "e7d783cf-fb88-49a6-c152-170cb1d51aa3"
      },
      "execution_count": 130,
      "outputs": [
        {
          "output_type": "execute_result",
          "data": {
            "text/plain": [
              "     PM25    O3   Dias\n",
              "625  36.0  27.0  44201\n",
              "626  23.0  25.0  44202\n",
              "627  35.0  27.0  44203\n",
              "628  54.0  26.0  44204\n",
              "629  44.0  31.0  44205\n",
              "..    ...   ...    ...\n",
              "4    37.0  14.0  44995\n",
              "5    31.0  13.0  44996\n",
              "6    40.0  17.0  44997\n",
              "7    51.0  21.0  44998\n",
              "8    44.0  30.0  44999\n",
              "\n",
              "[767 rows x 3 columns]"
            ],
            "text/html": [
              "\n",
              "  <div id=\"df-2a9ce8da-7cbc-4772-a136-1557c1aab800\">\n",
              "    <div class=\"colab-df-container\">\n",
              "      <div>\n",
              "<style scoped>\n",
              "    .dataframe tbody tr th:only-of-type {\n",
              "        vertical-align: middle;\n",
              "    }\n",
              "\n",
              "    .dataframe tbody tr th {\n",
              "        vertical-align: top;\n",
              "    }\n",
              "\n",
              "    .dataframe thead th {\n",
              "        text-align: right;\n",
              "    }\n",
              "</style>\n",
              "<table border=\"1\" class=\"dataframe\">\n",
              "  <thead>\n",
              "    <tr style=\"text-align: right;\">\n",
              "      <th></th>\n",
              "      <th>PM25</th>\n",
              "      <th>O3</th>\n",
              "      <th>Dias</th>\n",
              "    </tr>\n",
              "  </thead>\n",
              "  <tbody>\n",
              "    <tr>\n",
              "      <th>625</th>\n",
              "      <td>36.0</td>\n",
              "      <td>27.0</td>\n",
              "      <td>44201</td>\n",
              "    </tr>\n",
              "    <tr>\n",
              "      <th>626</th>\n",
              "      <td>23.0</td>\n",
              "      <td>25.0</td>\n",
              "      <td>44202</td>\n",
              "    </tr>\n",
              "    <tr>\n",
              "      <th>627</th>\n",
              "      <td>35.0</td>\n",
              "      <td>27.0</td>\n",
              "      <td>44203</td>\n",
              "    </tr>\n",
              "    <tr>\n",
              "      <th>628</th>\n",
              "      <td>54.0</td>\n",
              "      <td>26.0</td>\n",
              "      <td>44204</td>\n",
              "    </tr>\n",
              "    <tr>\n",
              "      <th>629</th>\n",
              "      <td>44.0</td>\n",
              "      <td>31.0</td>\n",
              "      <td>44205</td>\n",
              "    </tr>\n",
              "    <tr>\n",
              "      <th>...</th>\n",
              "      <td>...</td>\n",
              "      <td>...</td>\n",
              "      <td>...</td>\n",
              "    </tr>\n",
              "    <tr>\n",
              "      <th>4</th>\n",
              "      <td>37.0</td>\n",
              "      <td>14.0</td>\n",
              "      <td>44995</td>\n",
              "    </tr>\n",
              "    <tr>\n",
              "      <th>5</th>\n",
              "      <td>31.0</td>\n",
              "      <td>13.0</td>\n",
              "      <td>44996</td>\n",
              "    </tr>\n",
              "    <tr>\n",
              "      <th>6</th>\n",
              "      <td>40.0</td>\n",
              "      <td>17.0</td>\n",
              "      <td>44997</td>\n",
              "    </tr>\n",
              "    <tr>\n",
              "      <th>7</th>\n",
              "      <td>51.0</td>\n",
              "      <td>21.0</td>\n",
              "      <td>44998</td>\n",
              "    </tr>\n",
              "    <tr>\n",
              "      <th>8</th>\n",
              "      <td>44.0</td>\n",
              "      <td>30.0</td>\n",
              "      <td>44999</td>\n",
              "    </tr>\n",
              "  </tbody>\n",
              "</table>\n",
              "<p>767 rows × 3 columns</p>\n",
              "</div>\n",
              "      <button class=\"colab-df-convert\" onclick=\"convertToInteractive('df-2a9ce8da-7cbc-4772-a136-1557c1aab800')\"\n",
              "              title=\"Convert this dataframe to an interactive table.\"\n",
              "              style=\"display:none;\">\n",
              "        \n",
              "  <svg xmlns=\"http://www.w3.org/2000/svg\" height=\"24px\"viewBox=\"0 0 24 24\"\n",
              "       width=\"24px\">\n",
              "    <path d=\"M0 0h24v24H0V0z\" fill=\"none\"/>\n",
              "    <path d=\"M18.56 5.44l.94 2.06.94-2.06 2.06-.94-2.06-.94-.94-2.06-.94 2.06-2.06.94zm-11 1L8.5 8.5l.94-2.06 2.06-.94-2.06-.94L8.5 2.5l-.94 2.06-2.06.94zm10 10l.94 2.06.94-2.06 2.06-.94-2.06-.94-.94-2.06-.94 2.06-2.06.94z\"/><path d=\"M17.41 7.96l-1.37-1.37c-.4-.4-.92-.59-1.43-.59-.52 0-1.04.2-1.43.59L10.3 9.45l-7.72 7.72c-.78.78-.78 2.05 0 2.83L4 21.41c.39.39.9.59 1.41.59.51 0 1.02-.2 1.41-.59l7.78-7.78 2.81-2.81c.8-.78.8-2.07 0-2.86zM5.41 20L4 18.59l7.72-7.72 1.47 1.35L5.41 20z\"/>\n",
              "  </svg>\n",
              "      </button>\n",
              "      \n",
              "  <style>\n",
              "    .colab-df-container {\n",
              "      display:flex;\n",
              "      flex-wrap:wrap;\n",
              "      gap: 12px;\n",
              "    }\n",
              "\n",
              "    .colab-df-convert {\n",
              "      background-color: #E8F0FE;\n",
              "      border: none;\n",
              "      border-radius: 50%;\n",
              "      cursor: pointer;\n",
              "      display: none;\n",
              "      fill: #1967D2;\n",
              "      height: 32px;\n",
              "      padding: 0 0 0 0;\n",
              "      width: 32px;\n",
              "    }\n",
              "\n",
              "    .colab-df-convert:hover {\n",
              "      background-color: #E2EBFA;\n",
              "      box-shadow: 0px 1px 2px rgba(60, 64, 67, 0.3), 0px 1px 3px 1px rgba(60, 64, 67, 0.15);\n",
              "      fill: #174EA6;\n",
              "    }\n",
              "\n",
              "    [theme=dark] .colab-df-convert {\n",
              "      background-color: #3B4455;\n",
              "      fill: #D2E3FC;\n",
              "    }\n",
              "\n",
              "    [theme=dark] .colab-df-convert:hover {\n",
              "      background-color: #434B5C;\n",
              "      box-shadow: 0px 1px 3px 1px rgba(0, 0, 0, 0.15);\n",
              "      filter: drop-shadow(0px 1px 2px rgba(0, 0, 0, 0.3));\n",
              "      fill: #FFFFFF;\n",
              "    }\n",
              "  </style>\n",
              "\n",
              "      <script>\n",
              "        const buttonEl =\n",
              "          document.querySelector('#df-2a9ce8da-7cbc-4772-a136-1557c1aab800 button.colab-df-convert');\n",
              "        buttonEl.style.display =\n",
              "          google.colab.kernel.accessAllowed ? 'block' : 'none';\n",
              "\n",
              "        async function convertToInteractive(key) {\n",
              "          const element = document.querySelector('#df-2a9ce8da-7cbc-4772-a136-1557c1aab800');\n",
              "          const dataTable =\n",
              "            await google.colab.kernel.invokeFunction('convertToInteractive',\n",
              "                                                     [key], {});\n",
              "          if (!dataTable) return;\n",
              "\n",
              "          const docLinkHtml = 'Like what you see? Visit the ' +\n",
              "            '<a target=\"_blank\" href=https://colab.research.google.com/notebooks/data_table.ipynb>data table notebook</a>'\n",
              "            + ' to learn more about interactive tables.';\n",
              "          element.innerHTML = '';\n",
              "          dataTable['output_type'] = 'display_data';\n",
              "          await google.colab.output.renderOutput(dataTable, element);\n",
              "          const docLink = document.createElement('div');\n",
              "          docLink.innerHTML = docLinkHtml;\n",
              "          element.appendChild(docLink);\n",
              "        }\n",
              "      </script>\n",
              "    </div>\n",
              "  </div>\n",
              "  "
            ]
          },
          "metadata": {},
          "execution_count": 130
        }
      ]
    },
    {
      "cell_type": "code",
      "source": [
        "# Separação desenvolvimento (90) e teste (10)\n",
        "X_dev, X_test, Y_dev, Y_test = train_test_split(X, Y, test_size=0.1, random_state=1)\n",
        "\n",
        "# Separação treino (80) e validação (20)\n",
        "X_train, X_val, Y_train, Y_val = train_test_split(X_dev, Y_dev, test_size=0.2, random_state=1)\n",
        "\n",
        "print(X_train.shape)\n",
        "print(X_val.shape)\n",
        "print(X_test.shape)\n",
        "print(Y_train.shape)\n",
        "print(Y_val.shape)\n",
        "print(Y_test.shape)"
      ],
      "metadata": {
        "colab": {
          "base_uri": "https://localhost:8080/"
        },
        "id": "LgfpaRRUo1Fy",
        "outputId": "57fb35f4-7b6d-40c8-f96f-85a9e8f5458a"
      },
      "execution_count": 157,
      "outputs": [
        {
          "output_type": "stream",
          "name": "stdout",
          "text": [
            "(552, 3)\n",
            "(138, 3)\n",
            "(77, 3)\n",
            "(552, 1)\n",
            "(138, 1)\n",
            "(77, 1)\n"
          ]
        }
      ]
    },
    {
      "cell_type": "markdown",
      "source": [
        "Verificar a disponibilidade de CPU ou GPU para os tensores"
      ],
      "metadata": {
        "id": "3_HV8VBsDnB5"
      }
    },
    {
      "cell_type": "code",
      "source": [
        "device = \"cuda\" if torch.cuda.is_available() else \"cpu\"\n",
        "print(f\"{device}\" \" is available.\")    "
      ],
      "metadata": {
        "colab": {
          "base_uri": "https://localhost:8080/"
        },
        "id": "Nt_lzjYtKiud",
        "outputId": "5351ad71-aa7a-43de-fdb7-0ba0b0edf24b"
      },
      "execution_count": 158,
      "outputs": [
        {
          "output_type": "stream",
          "name": "stdout",
          "text": [
            "cpu is available.\n"
          ]
        }
      ]
    },
    {
      "cell_type": "code",
      "source": [
        "x_train = torch.FloatTensor(X_train.values)\n",
        "y_train = torch.FloatTensor(Y_train.values)\n",
        "\n",
        "x_val = torch.FloatTensor(X_val.values)\n",
        "y_val = torch.FloatTensor(Y_val.values)\n",
        "\n",
        "x_test = torch.FloatTensor(X_test.values)\n",
        "y_test = torch.FloatTensor(Y_test.values)"
      ],
      "metadata": {
        "id": "fqgNrGkqtRSI"
      },
      "execution_count": 185,
      "outputs": []
    },
    {
      "cell_type": "markdown",
      "source": [
        "Definir Modelo Preditivo (LSTM)"
      ],
      "metadata": {
        "id": "OW_ptUC-vOUB"
      }
    },
    {
      "cell_type": "code",
      "source": [
        "class LSTM(nn.Module):\n",
        "    def __init__(self, input_size, hidden_size, num_layers=1):\n",
        "        super(LSTM, self).__init__()\n",
        "        self.lstm = nn.LSTM(input_size, hidden_size, num_layers)\n",
        "        self.linear = nn.Linear(hidden_size, 1)\n",
        "\n",
        "    def forward(self, x):\n",
        "        out, _ = self.lstm(x)\n",
        "        out = self.linear(out[-1])\n",
        "        return out\n",
        "\n",
        "input_size = 3 # número de variáveis de entrada (PM25, O3, Dias)\n",
        "hidden_size = 20 # número de unidades na camada oculta\n",
        "num_layers = 1 # número de camadas de LSTM\n",
        "lr = 0.02 # taxa de aprendizagem\n",
        "num_epochs = 150 # número de épocas de treinamento\n",
        "batch_size = 32 # tamanho do lote\n"
      ],
      "metadata": {
        "id": "5C6K_vyLDFOl"
      },
      "execution_count": 203,
      "outputs": []
    },
    {
      "cell_type": "code",
      "source": [
        "#class LSTM(nn.Module):\n",
        "#    def __init__(self, input_dim, hidden_dim, num_layers, output_dim):\n",
        "#        super(LSTM, self).__init__()\n",
        "#        self.hidden_dim = hidden_dim\n",
        "#        self.num_layers = num_layers\n",
        "#        self.lstm = nn.LSTM(input_dim, hidden_dim, num_layers, batch_first=True)\n",
        "#        self.fc1 = nn.Linear(hidden_dim, output_dim)\n",
        "\n",
        "#    def forward(self, x):\n",
        "#        h0 = torch.zeros(self.num_layers, x.size(0), self.hidden_dim).requires_grad_()\n",
        "#        c0 = torch.zeros(self.num_layers, x.size(0), self.hidden_dim).requires_grad_()\n",
        "\n",
        "#        out, (hn, cn) = self.lstm(x, (h0.detach(), c0.detach()))\n",
        "\n",
        "#        out = self.fc1(out[:, -1, :])\n",
        "#        return out\n"
      ],
      "metadata": {
        "id": "wSwF6BDSrX_a"
      },
      "execution_count": null,
      "outputs": []
    },
    {
      "cell_type": "markdown",
      "source": [
        "Instanciar Modelo, definir função de custo MSE e otimizador Adam"
      ],
      "metadata": {
        "id": "-V6EEDbcvLVO"
      }
    },
    {
      "cell_type": "code",
      "source": [
        "# criar modelo\n",
        "model = LSTM(input_size, hidden_size, num_layers)\n",
        "\n",
        "# definir função de perda e otimizador\n",
        "criterion = nn.MSELoss()\n",
        "optimizer = optim.Adam(model.parameters(), lr=lr)"
      ],
      "metadata": {
        "id": "mAthm-J2EM1L"
      },
      "execution_count": 204,
      "outputs": []
    },
    {
      "cell_type": "markdown",
      "source": [
        "Treinar o modelo"
      ],
      "metadata": {
        "id": "QW7ACHhdEye1"
      }
    },
    {
      "cell_type": "code",
      "source": [
        "# treinar modelo\n",
        "train_loss = []\n",
        "valid_loss = []\n",
        "for epoch in range(num_epochs):\n",
        "    for i in range(0, len(x_train), batch_size):\n",
        "        optimizer.zero_grad()\n",
        "        batch_x = x_train[i:i+batch_size]\n",
        "        batch_y = y_train[i:i+batch_size]\n",
        "        out = model(batch_x.unsqueeze(1))\n",
        "        loss = criterion(out, batch_y)\n",
        "        loss.backward()\n",
        "        optimizer.step()\n",
        "    with torch.no_grad():\n",
        "        val_out = model(x_val.unsqueeze(1))\n",
        "        val_loss = criterion(val_out, y_val)\n",
        "    print(f'Epoca {epoch}: Erro de Treinamento = {loss.item():.4f}, Erro de Validação = {val_loss.item():.4f}')\n",
        "    # Armazena os erros de treinamento e validação\n",
        "    train_loss.append(loss)\n",
        "    valid_loss.append(val_loss)"
      ],
      "metadata": {
        "id": "KXgkcergEOQ_"
      },
      "execution_count": null,
      "outputs": []
    },
    {
      "cell_type": "code",
      "source": [
        "val_out"
      ],
      "metadata": {
        "colab": {
          "base_uri": "https://localhost:8080/"
        },
        "id": "cR9GLrmlQYsJ",
        "outputId": "a3241e13-4534-4218-cf6d-360715c01f02"
      },
      "execution_count": 200,
      "outputs": [
        {
          "output_type": "execute_result",
          "data": {
            "text/plain": [
              "tensor([[6.0002]])"
            ]
          },
          "metadata": {},
          "execution_count": 200
        }
      ]
    },
    {
      "cell_type": "code",
      "source": [
        "# testar modelo\n",
        "with torch.no_grad():\n",
        "    test_out = model(x_test)\n",
        "    test_loss = criterion(test_out, y_test)\n",
        "print(f'Erro de Teste = {test_loss.item():.4f}')"
      ],
      "metadata": {
        "colab": {
          "base_uri": "https://localhost:8080/"
        },
        "id": "h_dmBC2hESvr",
        "outputId": "46bb64da-163d-45f3-9928-fe89e05def37"
      },
      "execution_count": 201,
      "outputs": [
        {
          "output_type": "stream",
          "name": "stdout",
          "text": [
            "Erro de Teste = 33.2109\n"
          ]
        }
      ]
    },
    {
      "cell_type": "markdown",
      "source": [
        "Verificar resultados"
      ],
      "metadata": {
        "id": "_mTo4t8Z1bu3"
      }
    },
    {
      "cell_type": "code",
      "source": [
        "# Plota as curvas de erro de treinamento e validação\n",
        "plt.plot(torch.tensor(train_loss).detach().numpy(), label='Erro de Treino')\n",
        "plt.plot(torch.tensor(valid_loss).detach().numpy(), label='Erro de Validação')\n",
        "plt.legend(frameon=False)\n",
        "plt.xlabel('Epoca')\n",
        "plt.ylabel('Erro')\n",
        "plt.show()"
      ],
      "metadata": {
        "colab": {
          "base_uri": "https://localhost:8080/",
          "height": 445
        },
        "id": "5XFbVrOWLmF3",
        "outputId": "4fef5ca7-76e0-48cf-df3c-601a06b8f3be"
      },
      "execution_count": 202,
      "outputs": [
        {
          "output_type": "display_data",
          "data": {
            "text/plain": [
              "<Figure size 640x480 with 1 Axes>"
            ],
            "image/png": "[encoded data removed]"
          },
          "metadata": {}
        }
      ]
    },
    {
      "cell_type": "code",
      "source": [
        "predictions_train = []\n",
        "predictions_val = []\n",
        "predictions_test =  []\n",
        "with torch.no_grad():\n",
        "    predictions_train = model(x_train)\n",
        "    predictions_val = model(x_val)\n",
        "    predictions_test = model(x_test)\n",
        "\n",
        "# Cálculo do erro (Função de Custo)\n",
        "erro_train = loss_function(predictions_train,y_train)\n",
        "erro_val = loss_function(predictions_val,y_val)\n",
        "erro_test = loss_function(predictions_test,y_test)\n",
        "\n",
        "print(f\"Erro de Treino: {erro_train}\")\n",
        "print(f\"Erro de Validação: {erro_val}\")\n",
        "print(f\"Erro de Teste: {erro_test}\")"
      ],
      "metadata": {
        "colab": {
          "base_uri": "https://localhost:8080/",
          "height": 236
        },
        "id": "txtXv0hg1hWI",
        "outputId": "f8df27d9-d3b3-4849-c569-6e4fd3543516"
      },
      "execution_count": 168,
      "outputs": [
        {
          "output_type": "error",
          "ename": "NameError",
          "evalue": "ignored",
          "traceback": [
            "\u001b[0;31m---------------------------------------------------------------------------\u001b[0m",
            "\u001b[0;31mNameError\u001b[0m                                 Traceback (most recent call last)",
            "\u001b[0;32m<ipython-input-168-49d1763dfef0>\u001b[0m in \u001b[0;36m<cell line: 10>\u001b[0;34m()\u001b[0m\n\u001b[1;32m      8\u001b[0m \u001b[0;34m\u001b[0m\u001b[0m\n\u001b[1;32m      9\u001b[0m \u001b[0;31m# Cálculo do erro (Função de Custo)\u001b[0m\u001b[0;34m\u001b[0m\u001b[0;34m\u001b[0m\u001b[0m\n\u001b[0;32m---> 10\u001b[0;31m \u001b[0merro_train\u001b[0m \u001b[0;34m=\u001b[0m \u001b[0mloss_function\u001b[0m\u001b[0;34m(\u001b[0m\u001b[0mpredictions_train\u001b[0m\u001b[0;34m,\u001b[0m\u001b[0my_train\u001b[0m\u001b[0;34m)\u001b[0m\u001b[0;34m\u001b[0m\u001b[0;34m\u001b[0m\u001b[0m\n\u001b[0m\u001b[1;32m     11\u001b[0m \u001b[0merro_val\u001b[0m \u001b[0;34m=\u001b[0m \u001b[0mloss_function\u001b[0m\u001b[0;34m(\u001b[0m\u001b[0mpredictions_val\u001b[0m\u001b[0;34m,\u001b[0m\u001b[0my_val\u001b[0m\u001b[0;34m)\u001b[0m\u001b[0;34m\u001b[0m\u001b[0;34m\u001b[0m\u001b[0m\n\u001b[1;32m     12\u001b[0m \u001b[0merro_test\u001b[0m \u001b[0;34m=\u001b[0m \u001b[0mloss_function\u001b[0m\u001b[0;34m(\u001b[0m\u001b[0mpredictions_test\u001b[0m\u001b[0;34m,\u001b[0m\u001b[0my_test\u001b[0m\u001b[0;34m)\u001b[0m\u001b[0;34m\u001b[0m\u001b[0;34m\u001b[0m\u001b[0m\n",
            "\u001b[0;31mNameError\u001b[0m: name 'loss_function' is not defined"
          ]
        }
      ]
    },
    {
      "cell_type": "code",
      "source": [
        "# Cálculo da Acurácia de Classificação:\n",
        "\n",
        "pred_train = torch.argmax(predictions_train, dim=1)\n",
        "label_train = torch.argmax(y_train, dim=1)\n",
        "pred_val = torch.argmax(predictions_val, dim=1)\n",
        "label_val = torch.argmax(y_val, dim=-1)\n",
        "pred_test = torch.argmax(predictions_test, dim=1)\n",
        "label_test = torch.argmax(y_test, dim=-1)"
      ],
      "metadata": {
        "id": "T6C84v3I1rHg"
      },
      "execution_count": null,
      "outputs": []
    },
    {
      "cell_type": "code",
      "source": [
        "\n",
        "acc_train = accuracy_score(label_train, pred_train)\n",
        "acc_val = accuracy_score(label_val, pred_val)\n",
        "acc_test = accuracy_score(label_test, pred_test)\n",
        "\n",
        "\n",
        "print(f\"Acurácia de Treino: {acc_train*100:.2f}%\")\n",
        "print(f\"Acurácia de Validação: {acc_val*100:.2f}%\")\n",
        "print(f\"Acurácia de Teste: {acc_test*100:.2f}%\")"
      ],
      "metadata": {
        "id": "-njyqoUUgpTk",
        "colab": {
          "base_uri": "https://localhost:8080/",
          "height": 236
        },
        "outputId": "0108f040-9f7d-49b4-9aaf-5a871b0dbaa2"
      },
      "execution_count": 163,
      "outputs": [
        {
          "output_type": "error",
          "ename": "NameError",
          "evalue": "ignored",
          "traceback": [
            "\u001b[0;31m---------------------------------------------------------------------------\u001b[0m",
            "\u001b[0;31mNameError\u001b[0m                                 Traceback (most recent call last)",
            "\u001b[0;32m<ipython-input-163-8b6b94891622>\u001b[0m in \u001b[0;36m<cell line: 1>\u001b[0;34m()\u001b[0m\n\u001b[0;32m----> 1\u001b[0;31m \u001b[0macc_train\u001b[0m \u001b[0;34m=\u001b[0m \u001b[0maccuracy_score\u001b[0m\u001b[0;34m(\u001b[0m\u001b[0mlabel_train\u001b[0m\u001b[0;34m,\u001b[0m \u001b[0mpred_train\u001b[0m\u001b[0;34m)\u001b[0m\u001b[0;34m\u001b[0m\u001b[0;34m\u001b[0m\u001b[0m\n\u001b[0m\u001b[1;32m      2\u001b[0m \u001b[0macc_val\u001b[0m \u001b[0;34m=\u001b[0m \u001b[0maccuracy_score\u001b[0m\u001b[0;34m(\u001b[0m\u001b[0mlabel_val\u001b[0m\u001b[0;34m,\u001b[0m \u001b[0mpred_val\u001b[0m\u001b[0;34m)\u001b[0m\u001b[0;34m\u001b[0m\u001b[0;34m\u001b[0m\u001b[0m\n\u001b[1;32m      3\u001b[0m \u001b[0macc_test\u001b[0m \u001b[0;34m=\u001b[0m \u001b[0maccuracy_score\u001b[0m\u001b[0;34m(\u001b[0m\u001b[0mlabel_test\u001b[0m\u001b[0;34m,\u001b[0m \u001b[0mpred_test\u001b[0m\u001b[0;34m)\u001b[0m\u001b[0;34m\u001b[0m\u001b[0;34m\u001b[0m\u001b[0m\n\u001b[1;32m      4\u001b[0m \u001b[0;34m\u001b[0m\u001b[0m\n\u001b[1;32m      5\u001b[0m \u001b[0;34m\u001b[0m\u001b[0m\n",
            "\u001b[0;31mNameError\u001b[0m: name 'label_train' is not defined"
          ]
        }
      ]
    },
    {
      "cell_type": "code",
      "source": [
        "#saída do modelo\n",
        "X = X_norm * (max - min) + min"
      ],
      "metadata": {
        "id": "VvWa1hASyXnO"
      },
      "execution_count": null,
      "outputs": []
    }
  ]
}